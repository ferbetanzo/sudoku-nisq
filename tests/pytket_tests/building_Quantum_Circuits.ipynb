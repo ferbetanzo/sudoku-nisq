{
 "cells": [
  {
   "cell_type": "markdown",
   "metadata": {},
   "source": [
    "# ***Circuit generation***"
   ]
  },
  {
   "cell_type": "code",
   "execution_count": 8,
   "metadata": {},
   "outputs": [],
   "source": [
    "from pytket.circuit import Circuit\n",
    "from pytket.circuit import Qubit\n",
    "from pytket.qasm import circuit_from_qasm, circuit_to_qasm\n",
    "from pytket.quipper import circuit_from_quipper\n",
    "from pytket.circuit.display import render_circuit_jupyter"
   ]
  },
  {
   "cell_type": "markdown",
   "metadata": {},
   "source": [
    "### Wires, units IDs and registers"
   ]
  },
  {
   "cell_type": "code",
   "execution_count": 9,
   "metadata": {},
   "outputs": [
    {
     "name": "stdout",
     "output_type": "stream",
     "text": [
      "[q[0], q[1], q[2]]\n",
      "[c[0], c[1]]\n"
     ]
    }
   ],
   "source": [
    "# three qubits and two bits circuit construction\n",
    "c = Circuit(3, 2)\n",
    "print(c.qubits)\n",
    "print(c.bits)\n"
   ]
  },
  {
   "cell_type": "code",
   "execution_count": 10,
   "metadata": {},
   "outputs": [
    {
     "name": "stdout",
     "output_type": "stream",
     "text": [
      "[alpha[0], beta[2, 1], gamma[0, 0, 0], q[0], q[1], q[2]]\n"
     ]
    }
   ],
   "source": [
    "# Giving arbitrary names and indices to qubits and bits\n",
    "new_q1 = Qubit(\"alpha\", 0)\n",
    "new_q2 = Qubit(\"beta\", 2, 1)\n",
    "new_q3 = Qubit(\"gamma\", (0, 0, 0))\n",
    "c.add_qubit(new_q1)\n",
    "c.add_qubit(new_q2)\n",
    "c.add_qubit(new_q3)\n",
    "print(c.qubits)"
   ]
  },
  {
   "cell_type": "code",
   "execution_count": 11,
   "metadata": {},
   "outputs": [
    {
     "name": "stdout",
     "output_type": "stream",
     "text": [
      "[alpha[0], beta[2, 1], delta[0], delta[1], delta[2], delta[3], gamma[0, 0, 0], q[0], q[1], q[2]]\n"
     ]
    }
   ],
   "source": [
    "# add a new register of qubits\n",
    "c.add_q_register(\"delta\", 4)\n",
    "print(c.qubits)"
   ]
  },
  {
   "cell_type": "code",
   "execution_count": 12,
   "metadata": {},
   "outputs": [
    {
     "name": "stdout",
     "output_type": "stream",
     "text": [
      "[H alpha[0];, CX q[0], q[1];, CX q[1], beta[2, 1];, Rz(0.5) beta[2, 1];]\n"
     ]
    }
   ],
   "source": [
    "# Add gates to the circuit\n",
    "c.CX(0, 1)\n",
    "c.H(new_q1)\n",
    "c.CX(Qubit(\"q\", 1), new_q2)\n",
    "c.Rz(0.5, new_q2)\n",
    "print(c.get_commands())"
   ]
  },
  {
   "cell_type": "markdown",
   "metadata": {},
   "source": [
    "### Importing and exporting from standars formats"
   ]
  },
  {
   "cell_type": "code",
   "execution_count": 13,
   "metadata": {},
   "outputs": [
    {
     "data": {
      "text/plain": [
       "[H q[0]; CX q[0], q[1]; CX q[1], q[2]; Rz(0.25) q[2]; Measure q[2] --> c[0]; ]"
      ]
     },
     "execution_count": 13,
     "metadata": {},
     "output_type": "execute_result"
    }
   ],
   "source": [
    "c = Circuit(3, 1)\n",
    "c.H(0)\n",
    "c.CX(0, 1)\n",
    "c.CX(1, 2)\n",
    "c.Rz(0.25, 2)\n",
    "c.Measure(2, 0)"
   ]
  },
  {
   "cell_type": "code",
   "execution_count": 9,
   "metadata": {},
   "outputs": [],
   "source": [
    "# Export to a file in QASM format\n",
    "\n",
    "qasmfile = \"c.qasm\"\n",
    "circuit_to_qasm(c, qasmfile)"
   ]
  },
  {
   "cell_type": "code",
   "execution_count": 10,
   "metadata": {},
   "outputs": [
    {
     "name": "stdout",
     "output_type": "stream",
     "text": [
      "OPENQASM 2.0;\n",
      "include \"qelib1.inc\";\n",
      "\n",
      "qreg q[3];\n",
      "creg c[1];\n",
      "h q[0];\n",
      "cx q[0],q[1];\n",
      "cx q[1],q[2];\n",
      "rz(0.25*pi) q[2];\n",
      "measure q[2] -> c[0];\n",
      "\n"
     ]
    }
   ],
   "source": [
    "with open(qasmfile) as f:\n",
    "    print(f.read())"
   ]
  },
  {
   "cell_type": "code",
   "execution_count": 11,
   "metadata": {},
   "outputs": [
    {
     "data": {
      "text/plain": [
       "True"
      ]
     },
     "execution_count": 11,
     "metadata": {},
     "output_type": "execute_result"
    }
   ],
   "source": [
    "# import from a QASM format\n",
    "\n",
    "c1 = circuit_from_qasm(qasmfile)\n",
    "c == c1"
   ]
  },
  {
   "cell_type": "code",
   "execution_count": 12,
   "metadata": {},
   "outputs": [],
   "source": [
    "# Import from Quipper ASCII format\n",
    "\n",
    "quipfile = \"c.quip\"\n",
    "with open(quipfile, \"w\") as f:\n",
    "    f.write(\n",
    "        \"\"\"Inputs: 0:Qbit, 1:Qbit\n",
    "QGate[\"W\"](0,1)\n",
    "QGate[\"omega\"](1)\n",
    "QGate[\"swap\"](0,1)\n",
    "QGate[\"W\"]*(1,0)\n",
    "Outputs: 0:Qbit, 1:Qbit\n",
    "\"\"\"\n",
    "    )"
   ]
  },
  {
   "cell_type": "code",
   "execution_count": 13,
   "metadata": {},
   "outputs": [
    {
     "name": "stdout",
     "output_type": "stream",
     "text": [
      "[Rz(1.25) q[0];, T q[1];, Ry(1) q[0];, Ry(1) q[1];, CX q[1], q[0];, Ry(3.75) q[1];, CX q[0], q[1];, Ry(0.25) q[1];, CX q[1], q[0];, T q[0];, Rz(1.25) q[1];, Ry(1) q[0];, Ry(1) q[1];, SWAP q[0], q[1];, T q[0];, Rz(1.25) q[1];, Ry(1) q[0];, Ry(1) q[1];, CX q[0], q[1];, Ry(3.75) q[0];, CX q[1], q[0];, Ry(0.25) q[0];, CX q[0], q[1];, Rz(1.25) q[0];, T q[1];, Ry(1) q[0];, Ry(1) q[1];]\n"
     ]
    }
   ],
   "source": [
    "c = circuit_from_quipper(quipfile)\n",
    "print(c.get_commands())"
   ]
  },
  {
   "cell_type": "markdown",
   "metadata": {},
   "source": [
    "### Boxes"
   ]
  },
  {
   "cell_type": "code",
   "execution_count": 14,
   "metadata": {},
   "outputs": [],
   "source": [
    "from math import sqrt\n",
    "import numpy as np\n",
    "from pytket.circuit import CircBox, ExpBox, PauliExpBox, Unitary1qBox, Unitary2qBox\n",
    "from pytket.pauli import Pauli"
   ]
  },
  {
   "cell_type": "code",
   "execution_count": 15,
   "metadata": {},
   "outputs": [],
   "source": [
    "# Main circuit\n",
    "boxycirc = Circuit(3)"
   ]
  },
  {
   "cell_type": "code",
   "execution_count": 16,
   "metadata": {},
   "outputs": [
    {
     "data": {
      "text/plain": [
       "[CircBox q[0], q[1]; ]"
      ]
     },
     "execution_count": 16,
     "metadata": {},
     "output_type": "execute_result"
    }
   ],
   "source": [
    "# Add a CircBox\n",
    "subcirc = Circuit(2)\n",
    "subcirc.X(0).Y(1).CZ(0,1)\n",
    "cbox = CircBox(subcirc)\n",
    "\n",
    "boxycirc.add_gate(cbox, args=[Qubit(0), Qubit(1)])"
   ]
  },
  {
   "cell_type": "code",
   "execution_count": 17,
   "metadata": {},
   "outputs": [
    {
     "data": {
      "text/plain": [
       "[CircBox q[0], q[1]; Unitary1qBox q[2]; ]"
      ]
     },
     "execution_count": 17,
     "metadata": {},
     "output_type": "execute_result"
    }
   ],
   "source": [
    "# Add unitary1qBox\n",
    "\n",
    "m1 = np.asarray([[1 / 2, sqrt(3) / 2], [sqrt(3) / 2, -1 / 2]])\n",
    "m1box = Unitary1qBox(m1)\n",
    "boxycirc.add_unitary1qbox(m1box, 2)"
   ]
  },
  {
   "cell_type": "code",
   "execution_count": 18,
   "metadata": {},
   "outputs": [
    {
     "data": {
      "text/plain": [
       "[CircBox q[0], q[1]; Unitary1qBox q[2]; Unitary2qBox q[1], q[2]; ]"
      ]
     },
     "execution_count": 18,
     "metadata": {},
     "output_type": "execute_result"
    }
   ],
   "source": [
    "# Add Unitary2qBox\n",
    "\n",
    "m2 = np.asarray([[0, 0, 1, 0], [0, 1, 0, 0], [0, 0, 0, 1], [1, 0, 0, 0]])\n",
    "m2box = Unitary2qBox(m2)\n",
    "boxycirc.add_unitary2qbox(m2box, 1, 2)"
   ]
  },
  {
   "cell_type": "code",
   "execution_count": 19,
   "metadata": {},
   "outputs": [
    {
     "data": {
      "text/plain": [
       "[CircBox q[0], q[1]; Unitary1qBox q[2]; Unitary2qBox q[1], q[2]; ExpBox q[0], q[1]; ]"
      ]
     },
     "execution_count": 19,
     "metadata": {},
     "output_type": "execute_result"
    }
   ],
   "source": [
    "# Add an ExpBox\n",
    "\n",
    "A = np.asarray(\n",
    "    [[1, 2, 3, 4 + 1j], [2, 0, 1j, -1], [3, -1j, 2, 1j], [4 - 1j, -1, -1j, 1]]\n",
    ")\n",
    "ebox = ExpBox(A, 0.5)\n",
    "boxycirc.add_expbox(ebox, 0, 1)"
   ]
  },
  {
   "cell_type": "code",
   "execution_count": 20,
   "metadata": {},
   "outputs": [
    {
     "data": {
      "text/plain": [
       "[CircBox q[0], q[1]; Unitary1qBox q[2]; Unitary2qBox q[1], q[2]; ExpBox q[0], q[1]; PauliExpBox q[0], q[1], q[2]; ]"
      ]
     },
     "execution_count": 20,
     "metadata": {},
     "output_type": "execute_result"
    }
   ],
   "source": [
    "# Add a PauliExpBox\n",
    "\n",
    "pbox = PauliExpBox([Pauli.X, Pauli.Z, Pauli.X], 0.75)\n",
    "boxycirc.add_gate(pbox, [0, 1, 2])"
   ]
  },
  {
   "cell_type": "code",
   "execution_count": 21,
   "metadata": {},
   "outputs": [
    {
     "name": "stdout",
     "output_type": "stream",
     "text": [
      "[CircBox q[0], q[1];, Unitary1qBox q[2];, Unitary2qBox q[1], q[2];, ExpBox q[0], q[1];, PauliExpBox q[0], q[1], q[2];]\n"
     ]
    }
   ],
   "source": [
    "print(boxycirc.get_commands())"
   ]
  },
  {
   "cell_type": "code",
   "execution_count": 22,
   "metadata": {},
   "outputs": [
    {
     "name": "stdout",
     "output_type": "stream",
     "text": [
      "[ConjugationBox q[0], q[1], q[2];]\n"
     ]
    }
   ],
   "source": [
    "print(pbox.get_circuit().get_commands())"
   ]
  },
  {
   "cell_type": "code",
   "execution_count": 23,
   "metadata": {},
   "outputs": [],
   "source": [
    "# Quipper subroutines with CircBox operations\n",
    "\n",
    "with open(quipfile, \"w\") as f:\n",
    "    f.write(\n",
    "        \"\"\"Inputs: 0:Qbit, 1:Qbit, 2:Qbit\n",
    "QGate[\"H\"](0)\n",
    "Subroutine(x2)[\"sub\", shape \"([Q,Q],())\"] (2,1) -> (2,1)\n",
    "QGate[\"H\"](1)\n",
    "Outputs: 0:Qbit, 1:Qbit, 2:Qbit \\n\n",
    "Subroutine: \"sub\"\n",
    "Shape: \"([Q,Q],())\"\n",
    "Controllable: no\n",
    "Inputs: 0:Qbit, 1:Qbit\n",
    "QGate[\"Y\"](0)\n",
    "QGate[\"not\"](1) with controls=[+0]\n",
    "QGate[\"Z\"](1)\n",
    "Outputs: 0:Qbit, 1:Qbit\n",
    "\"\"\"\n",
    "    )\n"
   ]
  },
  {
   "cell_type": "code",
   "execution_count": 24,
   "metadata": {},
   "outputs": [
    {
     "name": "stdout",
     "output_type": "stream",
     "text": [
      "[H q[0];, CircBox q[2], q[1];, CircBox q[2], q[1];, H q[1];]\n"
     ]
    }
   ],
   "source": [
    "c = circuit_from_quipper(quipfile)\n",
    "cmds = c.get_commands()\n",
    "print(cmds)"
   ]
  },
  {
   "cell_type": "code",
   "execution_count": 25,
   "metadata": {},
   "outputs": [
    {
     "name": "stdout",
     "output_type": "stream",
     "text": [
      "[Y q[0];, CX q[0], q[1];, Z q[1];]\n"
     ]
    }
   ],
   "source": [
    "boxed_circuit = cmds[1].op.get_circuit()\n",
    "print(boxed_circuit.get_commands())"
   ]
  },
  {
   "cell_type": "markdown",
   "metadata": {},
   "source": [
    "### Circuit composition"
   ]
  },
  {
   "cell_type": "code",
   "execution_count": 30,
   "metadata": {},
   "outputs": [
    {
     "name": "stdout",
     "output_type": "stream",
     "text": [
      "[CX q[0], q[1];]\n",
      "[CZ q[1], q[0];]\n",
      "[CX q[0], q[1];, CZ q[1], q[0];]\n"
     ]
    }
   ],
   "source": [
    "# Serial composition\n",
    "# Circuit 1\n",
    "\n",
    "c = Circuit(2)\n",
    "c.CX(0, 1)\n",
    "print(c.get_commands())\n",
    "\n",
    "# Circuit 2\n",
    "\n",
    "c1 = Circuit(2)\n",
    "c1.CZ(1, 0)\n",
    "print(c1.get_commands())\n",
    "\n",
    "# Circuit composing\n",
    "\n",
    "c.append(c1)\n",
    "print(c.get_commands())\n"
   ]
  },
  {
   "cell_type": "code",
   "execution_count": 40,
   "metadata": {},
   "outputs": [
    {
     "name": "stdout",
     "output_type": "stream",
     "text": [
      "[CX x, y;]\n",
      "[CZ y, x;]\n",
      "[CX x, y;, CZ y, x;]\n"
     ]
    }
   ],
   "source": [
    "# Named unit IDs\n",
    "# qubit initialization\n",
    "x, y = Qubit(\"x\"), Qubit(\"y\")\n",
    "\n",
    "# Circuit 1\n",
    "c = Circuit()\n",
    "c.add_qubit(x)\n",
    "c.add_qubit(y)\n",
    "c.CX(x, y)\n",
    "print(c.get_commands())\n",
    "\n",
    "# Circuit 2\n",
    "c1 = Circuit()\n",
    "c1.add_qubit(x)\n",
    "c1.add_qubit(y)\n",
    "c1.CZ(y, x)\n",
    "print(c1.get_commands())\n",
    "\n",
    "c.append(c1)\n",
    "print(c.get_commands())\n"
   ]
  },
  {
   "cell_type": "code",
   "execution_count": 41,
   "metadata": {},
   "outputs": [
    {
     "name": "stdout",
     "output_type": "stream",
     "text": [
      "[CZ y, x;, CY y, z;]\n",
      "[x, y, z]\n",
      "[CX x, y;, CZ y, x;, CZ y, x;, CY y, z;]\n"
     ]
    }
   ],
   "source": [
    "# Not matching qubits between circuits\n",
    "\n",
    "# Append an extra qubit to c1\n",
    "z = Qubit(\"z\")\n",
    "c1.add_qubit(z)\n",
    "c1.CY(y, z)\n",
    "print(c1.get_commands())\n",
    "\n",
    "\n",
    "# Compose circuit c with circuit c1\n",
    "c.append(c1)\n",
    "print(c.qubits)\n",
    "print(c.get_commands())\n"
   ]
  },
  {
   "cell_type": "code",
   "execution_count": 43,
   "metadata": {},
   "outputs": [
    {
     "data": {
      "text/plain": [
       "[H w[0]; CX w[0], w[1]; CRz(0.25) w[1], w[2]; ]"
      ]
     },
     "execution_count": 43,
     "metadata": {},
     "output_type": "execute_result"
    }
   ],
   "source": [
    "# Serially composing qubits with disjoint sets of Qubits\n",
    "\n",
    "c2 = Circuit()\n",
    "c2.add_q_register(\"w\", 3)\n",
    "w = [Qubit(\"w\", i) for i in range(3)]\n",
    "c2.H(w[0]).CX(w[0], w[1]).CRz(0.25, w[1], w[2])\n",
    "\n"
   ]
  },
  {
   "cell_type": "code",
   "execution_count": 44,
   "metadata": {},
   "outputs": [
    {
     "data": {
      "text/plain": [
       "True"
      ]
     },
     "execution_count": 44,
     "metadata": {},
     "output_type": "execute_result"
    }
   ],
   "source": [
    "c.rename_units({x: w[0], y: w[1], z:w[2]})"
   ]
  },
  {
   "cell_type": "code",
   "execution_count": 45,
   "metadata": {},
   "outputs": [
    {
     "name": "stdout",
     "output_type": "stream",
     "text": [
      "[CX w[0], w[1];, CZ w[1], w[0];, CZ w[1], w[0];, H w[0];, CY w[1], w[2];, CX w[0], w[1];, CRz(0.25) w[1], w[2];]\n"
     ]
    }
   ],
   "source": [
    "c.append(c2)\n",
    "print(c.get_commands())"
   ]
  },
  {
   "cell_type": "markdown",
   "metadata": {},
   "source": [
    "### Simbolic Parameter"
   ]
  },
  {
   "cell_type": "code",
   "execution_count": 50,
   "metadata": {},
   "outputs": [],
   "source": [
    "from sympy import Symbol\n",
    "from pytket.transform import Transform"
   ]
  },
  {
   "cell_type": "code",
   "execution_count": 49,
   "metadata": {},
   "outputs": [
    {
     "data": {
      "text/plain": [
       "[Rz(0.5) q[0]; Rz(a) q[0]; ]"
      ]
     },
     "execution_count": 49,
     "metadata": {},
     "output_type": "execute_result"
    }
   ],
   "source": [
    "# Create a quantum circuit\n",
    "c = Circuit(1)\n",
    "c.Rz(0.5, 0)\n",
    "\n",
    "# Create a simbolic parameter for a gate\n",
    "a = Symbol(\"a\")\n",
    "c.Rz(a, 0)"
   ]
  },
  {
   "cell_type": "code",
   "execution_count": 52,
   "metadata": {},
   "outputs": [
    {
     "name": "stdout",
     "output_type": "stream",
     "text": [
      "[Rz(0.5 + a) q[0];]\n"
     ]
    }
   ],
   "source": [
    "# Apply a transformation to the circuit\n",
    "\n",
    "Transform.RemoveRedundancies().apply(c)\n",
    "print(c.get_commands())"
   ]
  },
  {
   "cell_type": "code",
   "execution_count": 53,
   "metadata": {},
   "outputs": [
    {
     "name": "stdout",
     "output_type": "stream",
     "text": [
      "[Rz(1.25) q[0];]\n"
     ]
    }
   ],
   "source": [
    "# Substitute values for symbols\n",
    "\n",
    "c.symbol_substitution({a: 0.75})\n",
    "print(c.get_commands())"
   ]
  },
  {
   "cell_type": "code",
   "execution_count": 54,
   "metadata": {},
   "outputs": [
    {
     "name": "stdout",
     "output_type": "stream",
     "text": [
      "[Rz(3*a) q[0];]\n"
     ]
    }
   ],
   "source": [
    "# Substitute symbols for another symbols\n",
    "\n",
    "b = Symbol(\"b\")\n",
    "c = Circuit(1)\n",
    "c.Rz(a + b, 0)\n",
    "c.symbol_substitution({b: 2 * a})\n",
    "print(c.get_commands())"
   ]
  },
  {
   "cell_type": "markdown",
   "metadata": {},
   "source": [
    "### Custom gates"
   ]
  },
  {
   "cell_type": "code",
   "execution_count": 55,
   "metadata": {},
   "outputs": [],
   "source": [
    "from pytket.circuit import CustomGateDef"
   ]
  },
  {
   "cell_type": "code",
   "execution_count": 56,
   "metadata": {},
   "outputs": [
    {
     "name": "stdout",
     "output_type": "stream",
     "text": [
      "[g(0.2,1.3) q[0], q[3], q[1];]\n"
     ]
    }
   ],
   "source": [
    "# Define a custom gate\n",
    "\n",
    "a = Symbol(\"a\")\n",
    "b = Symbol(\"b\")\n",
    "setup = Circuit(3)\n",
    "setup.CX(0, 1)\n",
    "setup.Rz(a + 0.5, 2)\n",
    "setup.CRz(b, 0, 2)\n",
    "my_gate = CustomGateDef.define(\"g\", setup, [a, b])\n",
    "\n",
    "# Apply a custom gate\n",
    "c = Circuit(4)\n",
    "c.add_custom_gate(my_gate, [0.2, 1.3], [0, 3, 1])\n",
    "print(c.get_commands())\n"
   ]
  },
  {
   "cell_type": "code",
   "execution_count": 57,
   "metadata": {},
   "outputs": [
    {
     "name": "stdout",
     "output_type": "stream",
     "text": [
      "[g(0.2,1.3) q[0], q[3], q[1];, g(x,1.0) q[0], q[1], q[2];]\n"
     ]
    }
   ],
   "source": [
    "# Custom gate receive a symbolic parameter\n",
    "\n",
    "x = Symbol(\"x\")\n",
    "c.add_custom_gate(my_gate, [x, 1.0], [0, 1, 2])\n",
    "print(c.get_commands())"
   ]
  },
  {
   "cell_type": "markdown",
   "metadata": {},
   "source": [
    "### Decomposing boxes and custom gates"
   ]
  },
  {
   "cell_type": "code",
   "execution_count": 58,
   "metadata": {},
   "outputs": [
    {
     "name": "stdout",
     "output_type": "stream",
     "text": [
      "[CX q[0], q[3];, Rz(0.7) q[1];, Rz(0.5 + x) q[2];, CRz(1.3) q[0], q[1];, CX q[0], q[1];, CRz(1) q[0], q[2];]\n"
     ]
    }
   ],
   "source": [
    "# Decompose a custom gate into elementary gates\n",
    "\n",
    "Transform.DecomposeBoxes().apply(c)\n",
    "print(c.get_commands())"
   ]
  },
  {
   "cell_type": "code",
   "execution_count": 59,
   "metadata": {},
   "outputs": [
    {
     "name": "stdout",
     "output_type": "stream",
     "text": [
      "[X q[0];, Y q[1];, TK1(0.5, 0.666667, 0.5) q[2];, CZ q[0], q[1];, TK1(1, 0.5, 1) q[2];, TK1(2.85376, 0.108518, 0.745298) q[0];, TK1(0.5, 0.5, 0) q[1];, Sdg q[2];, Vdg q[0];, Sdg q[1];, Vdg q[2];, Vdg q[1];, TK2(0.5, 0.5, 0) q[1], q[2];, Z q[1];, Z q[2];, V q[1];, V q[2];, S q[1];, S q[2];, TK1(0, 1, 0) q[1];, TK1(0.5, 0.5, 3.5) q[2];, TK1(0.949197, 0.387157, 3.3496) q[1];, H q[2];, Vdg q[1];, TK2(0.361961, 0.244835, 3.95683) q[0], q[1];, Z q[0];, Z q[1];, Z q[0];, Z q[1];, V q[0];, V q[1];, TK1(1.21947, 0.354596, 0.18545) q[0];, TK1(0.984475, 0.34973, 3.36619) q[1];, H q[0];, CX q[2], q[1];, CX q[1], q[0];, Rz(0.75) q[0];, CX q[1], q[0];, H q[0];, CX q[2], q[1];, H q[2];]\n"
     ]
    }
   ],
   "source": [
    "# Decompose arbitrary boxes into elementary gates\n",
    "\n",
    "c = boxycirc.copy()\n",
    "Transform.DecomposeBoxes().apply(c)\n",
    "print(c.get_commands())"
   ]
  },
  {
   "cell_type": "markdown",
   "metadata": {},
   "source": [
    "### Classical controls"
   ]
  },
  {
   "cell_type": "code",
   "execution_count": 63,
   "metadata": {},
   "outputs": [],
   "source": [
    "from pytket.circuit import Bit\n",
    "from pytket.circuit import OpType\n"
   ]
  },
  {
   "cell_type": "code",
   "execution_count": 61,
   "metadata": {},
   "outputs": [],
   "source": [
    "# Create a classical register\n",
    "c.add_c_register(\"m\", 2)\n",
    "m = [Bit(\"m\", i) for i in range(2)]"
   ]
  },
  {
   "cell_type": "code",
   "execution_count": 62,
   "metadata": {},
   "outputs": [
    {
     "data": {
      "text/plain": [
       "[X q[0]; Y q[1]; TK1(0.5, 0.666667, 0.5) q[2]; CZ q[0], q[1]; TK1(1, 0.5, 1) q[2]; TK1(2.85376, 0.108518, 0.745298) q[0]; TK1(0.5, 0.5, 0) q[1]; Sdg q[2]; Vdg q[0]; Sdg q[1]; Vdg q[2]; Vdg q[1]; TK2(0.5, 0.5, 0) q[1], q[2]; Z q[1]; Z q[2]; V q[1]; V q[2]; S q[1]; S q[2]; TK1(0, 1, 0) q[1]; TK1(0.5, 0.5, 3.5) q[2]; TK1(0.949197, 0.387157, 3.3496) q[1]; H q[2]; Vdg q[1]; TK2(0.361961, 0.244835, 3.95683) q[0], q[1]; Z q[0]; Z q[1]; Z q[0]; Z q[1]; V q[0]; V q[1]; TK1(1.21947, 0.354596, 0.18545) q[0]; TK1(0.984475, 0.34973, 3.36619) q[1]; H q[0]; CX q[2], q[1]; CX q[1], q[0]; Rz(0.75) q[0]; CX q[1], q[0]; H q[0]; CX q[2], q[1]; Measure q[1] --> m[1]; X q[0]; H q[2]; Measure q[0] --> m[0]; ]"
      ]
     },
     "execution_count": 62,
     "metadata": {},
     "output_type": "execute_result"
    }
   ],
   "source": [
    "q = [Qubit(\"q\", i) for i in range(3)]\n",
    "c.X(q[0])\n",
    "c.Measure(q[0], m[0])\n",
    "c.Measure(q[1], m[1])"
   ]
  },
  {
   "cell_type": "code",
   "execution_count": 64,
   "metadata": {},
   "outputs": [
    {
     "data": {
      "text/plain": [
       "[X q[0]; Y q[1]; TK1(0.5, 0.666667, 0.5) q[2]; CZ q[0], q[1]; TK1(1, 0.5, 1) q[2]; TK1(2.85376, 0.108518, 0.745298) q[0]; TK1(0.5, 0.5, 0) q[1]; Sdg q[2]; Vdg q[0]; Sdg q[1]; Vdg q[2]; Vdg q[1]; TK2(0.5, 0.5, 0) q[1], q[2]; Z q[1]; Z q[2]; V q[1]; V q[2]; S q[1]; S q[2]; TK1(0, 1, 0) q[1]; TK1(0.5, 0.5, 3.5) q[2]; TK1(0.949197, 0.387157, 3.3496) q[1]; H q[2]; Vdg q[1]; TK2(0.361961, 0.244835, 3.95683) q[0], q[1]; Z q[0]; Z q[1]; Z q[0]; Z q[1]; V q[0]; V q[1]; TK1(1.21947, 0.354596, 0.18545) q[0]; TK1(0.984475, 0.34973, 3.36619) q[1]; H q[0]; CX q[2], q[1]; CX q[1], q[0]; Rz(0.75) q[0]; CX q[1], q[0]; H q[0]; CX q[2], q[1]; Measure q[1] --> m[1]; X q[0]; H q[2]; Measure q[0] --> m[0]; IF ([m[0], m[1]] == 3) THEN Rz(0.5) q[2]; ]"
      ]
     },
     "execution_count": 64,
     "metadata": {},
     "output_type": "execute_result"
    }
   ],
   "source": [
    "# Add a classical conditiones Rz operation\n",
    "\n",
    "c.add_gate(OpType.Rz, [0.5], [q[2]], condition_bits=[m[0], m[1]], condition_value=3)\n"
   ]
  },
  {
   "cell_type": "markdown",
   "metadata": {},
   "source": [
    "# ***Circuit Analysis***"
   ]
  },
  {
   "cell_type": "code",
   "execution_count": 73,
   "metadata": {},
   "outputs": [],
   "source": [
    "from pytket.circuit import Circuit, OpType\n",
    "from pytket.circuit.display import render_circuit_jupyter\n",
    "from pytket.utils import Graph\n",
    "from pytket.extensions.qiskit import tk_to_qiskit\n",
    "from pytket.extensions.cirq import tk_to_cirq"
   ]
  },
  {
   "cell_type": "code",
   "execution_count": 74,
   "metadata": {},
   "outputs": [
    {
     "data": {
      "text/plain": [
       "[CU1(0.5) q[0], q[1]; Y q[2]; Z q[3]; H q[0]; X q[1]; H q[3]; X q[0]; CX q[1], q[2]; Y q[0]; Y q[1]; Z q[2]; Z q[0]; Z q[1]; CU1(0.5) q[2], q[3]; H q[1]; H q[2]; X q[3]; X q[2]; Y q[3]; CX q[3], q[0]; ]"
      ]
     },
     "execution_count": 74,
     "metadata": {},
     "output_type": "execute_result"
    }
   ],
   "source": [
    "c = Circuit(4, name=\"example\")\n",
    "c.add_gate(OpType.CU1, 0.5, [0, 1])\n",
    "c.H(0).X(1).Y(2).Z(3)\n",
    "c.X(0).CX(1, 2).Y(1).Z(2).H(3)\n",
    "c.Y(0).Z(1)\n",
    "c.add_gate(OpType.CU1, 0.5, [2, 3])\n",
    "c.H(2).X(3)\n",
    "c.Z(0).H(1).X(2).Y(3).CX(3, 0)"
   ]
  },
  {
   "cell_type": "markdown",
   "metadata": {},
   "source": [
    "### Circuit statistics"
   ]
  },
  {
   "cell_type": "code",
   "execution_count": 75,
   "metadata": {},
   "outputs": [
    {
     "data": {
      "text/plain": [
       "4"
      ]
     },
     "execution_count": 75,
     "metadata": {},
     "output_type": "execute_result"
    }
   ],
   "source": [
    "# Show number of qubits\n",
    "c.n_qubits"
   ]
  },
  {
   "cell_type": "code",
   "execution_count": 76,
   "metadata": {},
   "outputs": [
    {
     "data": {
      "text/plain": [
       "'example'"
      ]
     },
     "execution_count": 76,
     "metadata": {},
     "output_type": "execute_result"
    }
   ],
   "source": [
    "# Display the name of the circuit\n",
    "c.name"
   ]
  },
  {
   "cell_type": "code",
   "execution_count": 77,
   "metadata": {},
   "outputs": [
    {
     "data": {
      "text/plain": [
       "8"
      ]
     },
     "execution_count": 77,
     "metadata": {},
     "output_type": "execute_result"
    }
   ],
   "source": [
    "# Show the depth of the circuit\n",
    "c.depth()"
   ]
  },
  {
   "cell_type": "code",
   "execution_count": 78,
   "metadata": {},
   "outputs": [
    {
     "data": {
      "text/plain": [
       "(2, 2)"
      ]
     },
     "execution_count": 78,
     "metadata": {},
     "output_type": "execute_result"
    }
   ],
   "source": [
    "# show the depth by type of gate\n",
    "c.depth_by_type(OpType.CU1),  c.depth_by_type(OpType.H)"
   ]
  },
  {
   "cell_type": "markdown",
   "metadata": {},
   "source": [
    "### Circuit Visualization"
   ]
  },
  {
   "cell_type": "code",
   "execution_count": 79,
   "metadata": {},
   "outputs": [
    {
     "data": {
      "text/html": [
       "\n",
       "\n",
       "\n",
       "\n",
       "\n",
       "\n",
       "<div style=\"resize: vertical; overflow: auto; height: 400px; display: block\">\n",
       "    <iframe srcdoc=\"\n",
       "&lt;!DOCTYPE html&gt;\n",
       "&lt;html lang=&#34;en&#34;&gt;\n",
       "&lt;head&gt;\n",
       "    &lt;meta charset=&#34;UTF-8&#34;&gt;\n",
       "    &lt;!-- Download Vue 3--&gt;\n",
       "&lt;script type=&#34;application/javascript&#34; src=&#34;https://cdn.jsdelivr.net/npm/vue@3&#34;&gt;&lt;/script&gt;\n",
       "&lt;!-- Download Circuit Renderer with styles --&gt;\n",
       "&lt;script type=&#34;application/javascript&#34; src=&#34;https://unpkg.com/pytket-circuit-renderer@0.7/dist/pytket-circuit-renderer.umd.js&#34;&gt;&lt;/script&gt;\n",
       "&lt;link rel=&#34;stylesheet&#34; href=&#34;https://unpkg.com/pytket-circuit-renderer@0.7/dist/pytket-circuit-renderer.css&#34;&gt;\n",
       "&lt;/head&gt;\n",
       "&lt;body&gt;\n",
       "\n",
       "\n",
       "\n",
       "    &lt;div id=&#34;circuit-display-vue-container-0f56f0de-f9c5-4286-8d24-f7b4d178729c&#34; class=&#34;pytket-circuit-display-container&#34;&gt;\n",
       "        &lt;div style=&#34;display: none&#34;&gt;\n",
       "            &lt;div id=&#34;circuit-json-to-display&#34;&gt;{&#34;bits&#34;: [], &#34;commands&#34;: [{&#34;args&#34;: [[&#34;q&#34;, [0]], [&#34;q&#34;, [1]]], &#34;op&#34;: {&#34;params&#34;: [&#34;0.5&#34;], &#34;type&#34;: &#34;CU1&#34;}}, {&#34;args&#34;: [[&#34;q&#34;, [2]]], &#34;op&#34;: {&#34;type&#34;: &#34;Y&#34;}}, {&#34;args&#34;: [[&#34;q&#34;, [3]]], &#34;op&#34;: {&#34;type&#34;: &#34;Z&#34;}}, {&#34;args&#34;: [[&#34;q&#34;, [0]]], &#34;op&#34;: {&#34;type&#34;: &#34;H&#34;}}, {&#34;args&#34;: [[&#34;q&#34;, [1]]], &#34;op&#34;: {&#34;type&#34;: &#34;X&#34;}}, {&#34;args&#34;: [[&#34;q&#34;, [3]]], &#34;op&#34;: {&#34;type&#34;: &#34;H&#34;}}, {&#34;args&#34;: [[&#34;q&#34;, [0]]], &#34;op&#34;: {&#34;type&#34;: &#34;X&#34;}}, {&#34;args&#34;: [[&#34;q&#34;, [1]], [&#34;q&#34;, [2]]], &#34;op&#34;: {&#34;type&#34;: &#34;CX&#34;}}, {&#34;args&#34;: [[&#34;q&#34;, [0]]], &#34;op&#34;: {&#34;type&#34;: &#34;Y&#34;}}, {&#34;args&#34;: [[&#34;q&#34;, [1]]], &#34;op&#34;: {&#34;type&#34;: &#34;Y&#34;}}, {&#34;args&#34;: [[&#34;q&#34;, [2]]], &#34;op&#34;: {&#34;type&#34;: &#34;Z&#34;}}, {&#34;args&#34;: [[&#34;q&#34;, [0]]], &#34;op&#34;: {&#34;type&#34;: &#34;Z&#34;}}, {&#34;args&#34;: [[&#34;q&#34;, [1]]], &#34;op&#34;: {&#34;type&#34;: &#34;Z&#34;}}, {&#34;args&#34;: [[&#34;q&#34;, [2]], [&#34;q&#34;, [3]]], &#34;op&#34;: {&#34;params&#34;: [&#34;0.5&#34;], &#34;type&#34;: &#34;CU1&#34;}}, {&#34;args&#34;: [[&#34;q&#34;, [1]]], &#34;op&#34;: {&#34;type&#34;: &#34;H&#34;}}, {&#34;args&#34;: [[&#34;q&#34;, [2]]], &#34;op&#34;: {&#34;type&#34;: &#34;H&#34;}}, {&#34;args&#34;: [[&#34;q&#34;, [3]]], &#34;op&#34;: {&#34;type&#34;: &#34;X&#34;}}, {&#34;args&#34;: [[&#34;q&#34;, [2]]], &#34;op&#34;: {&#34;type&#34;: &#34;X&#34;}}, {&#34;args&#34;: [[&#34;q&#34;, [3]]], &#34;op&#34;: {&#34;type&#34;: &#34;Y&#34;}}, {&#34;args&#34;: [[&#34;q&#34;, [3]], [&#34;q&#34;, [0]]], &#34;op&#34;: {&#34;type&#34;: &#34;CX&#34;}}], &#34;created_qubits&#34;: [], &#34;discarded_qubits&#34;: [], &#34;implicit_permutation&#34;: [[[&#34;q&#34;, [0]], [&#34;q&#34;, [0]]], [[&#34;q&#34;, [1]], [&#34;q&#34;, [1]]], [[&#34;q&#34;, [2]], [&#34;q&#34;, [2]]], [[&#34;q&#34;, [3]], [&#34;q&#34;, [3]]]], &#34;name&#34;: &#34;example&#34;, &#34;phase&#34;: &#34;0.0&#34;, &#34;qubits&#34;: [[&#34;q&#34;, [0]], [&#34;q&#34;, [1]], [&#34;q&#34;, [2]], [&#34;q&#34;, [3]]]}&lt;/div&gt;\n",
       "        &lt;/div&gt;\n",
       "        &lt;circuit-display-container\n",
       "                :circuit-element-str=&#34;&#39;#circuit-json-to-display&#39;&#34;\n",
       "                :init-render-options=&#34;initRenderOptions&#34;\n",
       "        &gt;&lt;/circuit-display-container&gt;\n",
       "    &lt;/div&gt;\n",
       "    &lt;script type=&#34;application/javascript&#34;&gt;\n",
       "      const circuitRendererUid = &#34;0f56f0de-f9c5-4286-8d24-f7b4d178729c&#34;;\n",
       "      const displayOptions = JSON.parse(&#39;{}&#39;);\n",
       "\n",
       "      // Script to initialise the circuit renderer app\n",
       "\n",
       "const { createApp } = Vue;\n",
       "const circuitDisplayContainer = window[&#34;pytket-circuit-renderer&#34;].default;\n",
       "// Init variables to be shared between circuit display instances\n",
       "if (typeof window.pytketCircuitDisplays === &#34;undefined&#34;) {\n",
       "    window.pytketCircuitDisplays = {};\n",
       "}\n",
       "// Create the root Vue component\n",
       "const app = createApp({\n",
       "    delimiters: [&#39;[[#&#39;, &#39;#]]&#39;],\n",
       "    components: { circuitDisplayContainer },\n",
       "    data () {\n",
       "      return {\n",
       "        initRenderOptions: displayOptions,\n",
       "      }\n",
       "    }\n",
       "})\n",
       "app.config.unwrapInjectedRef = true;\n",
       "app.mount(&#34;#circuit-display-vue-container-&#34;+circuitRendererUid);\n",
       "window.pytketCircuitDisplays[circuitRendererUid] = app;\n",
       "    &lt;/script&gt;\n",
       "\n",
       "\n",
       "\n",
       "&lt;/body&gt;\n",
       "&lt;/html&gt;\n",
       "\"\n",
       "            width=\"100%\" height=\"100%\"\n",
       "            style=\"border: none; outline: none; overflow: auto\"></iframe>\n",
       "</div>\n",
       "\n"
      ],
      "text/plain": [
       "<IPython.core.display.HTML object>"
      ]
     },
     "metadata": {},
     "output_type": "display_data"
    }
   ],
   "source": [
    "# recommended jupyter notebook visualization\n",
    "render_circuit_jupyter(c)"
   ]
  },
  {
   "cell_type": "code",
   "execution_count": 80,
   "metadata": {},
   "outputs": [
    {
     "data": {
      "image/svg+xml": [
       "<?xml version=\"1.0\" encoding=\"UTF-8\" standalone=\"no\"?>\n",
       "<!DOCTYPE svg PUBLIC \"-//W3C//DTD SVG 1.1//EN\"\n",
       " \"http://www.w3.org/Graphics/SVG/1.1/DTD/svg11.dtd\">\n",
       "<!-- Generated by graphviz version 2.43.0 (0)\n",
       " -->\n",
       "<!-- Title: Circuit Pages: 1 -->\n",
       "<svg width=\"441pt\" height=\"157pt\"\n",
       " viewBox=\"0.00 0.00 441.00 157.00\" xmlns=\"http://www.w3.org/2000/svg\" xmlns:xlink=\"http://www.w3.org/1999/xlink\">\n",
       "<g id=\"graph0\" class=\"graph\" transform=\"scale(1 1) rotate(0) translate(4 153)\">\n",
       "<title>Circuit</title>\n",
       "<polygon fill=\"white\" stroke=\"transparent\" points=\"-4,4 -4,-153 437,-153 437,4 -4,4\"/>\n",
       "<g id=\"clust1\" class=\"cluster\">\n",
       "<title>cluster_q_inputs</title>\n",
       "<path fill=\"lightgrey\" stroke=\"lightgrey\" d=\"M18.53,-27C18.53,-27 23.07,-27 23.07,-27 25.33,-27 27.6,-29.27 27.6,-31.53 27.6,-31.53 27.6,-81.47 27.6,-81.47 27.6,-83.73 25.33,-86 23.07,-86 23.07,-86 18.53,-86 18.53,-86 16.27,-86 14,-83.73 14,-81.47 14,-81.47 14,-31.53 14,-31.53 14,-29.27 16.27,-27 18.53,-27\"/>\n",
       "</g>\n",
       "<g id=\"clust4\" class=\"cluster\">\n",
       "<title>cluster_q_outputs</title>\n",
       "<path fill=\"lightgrey\" stroke=\"lightgrey\" d=\"M415.93,-46C415.93,-46 420.47,-46 420.47,-46 422.73,-46 425,-48.27 425,-50.53 425,-50.53 425,-100.47 425,-100.47 425,-102.73 422.73,-105 420.47,-105 420.47,-105 415.93,-105 415.93,-105 413.67,-105 411.4,-102.73 411.4,-100.47 411.4,-100.47 411.4,-50.53 411.4,-50.53 411.4,-48.27 413.67,-46 415.93,-46\"/>\n",
       "</g>\n",
       "<g id=\"clust7\" class=\"cluster\">\n",
       "<title>cluster_8</title>\n",
       "<path fill=\"lightblue\" stroke=\"lightblue\" d=\"M51.6,-61C51.6,-61 88.2,-61 88.2,-61 94.2,-61 100.2,-67 100.2,-73 100.2,-73 100.2,-97 100.2,-97 100.2,-103 94.2,-109 88.2,-109 88.2,-109 51.6,-109 51.6,-109 45.6,-109 39.6,-103 39.6,-97 39.6,-97 39.6,-73 39.6,-73 39.6,-67 45.6,-61 51.6,-61\"/>\n",
       "<text text-anchor=\"middle\" x=\"69.9\" y=\"-97\" font-family=\"Times,serif\" font-size=\"10.00\">CU1(0.5)</text>\n",
       "</g>\n",
       "<g id=\"clust8\" class=\"cluster\">\n",
       "<title>cluster_9</title>\n",
       "<path fill=\"lightblue\" stroke=\"lightblue\" d=\"M196.93,-107C196.93,-107 205.47,-107 205.47,-107 209.73,-107 214,-111.27 214,-115.53 214,-115.53 214,-131.47 214,-131.47 214,-135.73 209.73,-140 205.47,-140 205.47,-140 196.93,-140 196.93,-140 192.67,-140 188.4,-135.73 188.4,-131.47 188.4,-131.47 188.4,-115.53 188.4,-115.53 188.4,-111.27 192.67,-107 196.93,-107\"/>\n",
       "<text text-anchor=\"middle\" x=\"201.2\" y=\"-128\" font-family=\"Times,serif\" font-size=\"10.00\">H</text>\n",
       "</g>\n",
       "<g id=\"clust9\" class=\"cluster\">\n",
       "<title>cluster_10</title>\n",
       "<path fill=\"lightblue\" stroke=\"lightblue\" d=\"M119.73,-64C119.73,-64 127.27,-64 127.27,-64 131.03,-64 134.8,-67.77 134.8,-71.53 134.8,-71.53 134.8,-89.47 134.8,-89.47 134.8,-93.23 131.03,-97 127.27,-97 127.27,-97 119.73,-97 119.73,-97 115.97,-97 112.2,-93.23 112.2,-89.47 112.2,-89.47 112.2,-71.53 112.2,-71.53 112.2,-67.77 115.97,-64 119.73,-64\"/>\n",
       "<text text-anchor=\"middle\" x=\"123.5\" y=\"-85\" font-family=\"Times,serif\" font-size=\"10.00\">X</text>\n",
       "</g>\n",
       "<g id=\"clust10\" class=\"cluster\">\n",
       "<title>cluster_11</title>\n",
       "<path fill=\"lightblue\" stroke=\"lightblue\" d=\"M119.73,-31C119.73,-31 127.27,-31 127.27,-31 131.03,-31 134.8,-34.77 134.8,-38.53 134.8,-38.53 134.8,-56.47 134.8,-56.47 134.8,-60.23 131.03,-64 127.27,-64 127.27,-64 119.73,-64 119.73,-64 115.97,-64 112.2,-60.23 112.2,-56.47 112.2,-56.47 112.2,-38.53 112.2,-38.53 112.2,-34.77 115.97,-31 119.73,-31\"/>\n",
       "<text text-anchor=\"middle\" x=\"123.5\" y=\"-52\" font-family=\"Times,serif\" font-size=\"10.00\">Y</text>\n",
       "</g>\n",
       "<g id=\"clust11\" class=\"cluster\">\n",
       "<title>cluster_12</title>\n",
       "<path fill=\"lightblue\" stroke=\"lightblue\" d=\"M157.33,-8C157.33,-8 164.87,-8 164.87,-8 168.63,-8 172.4,-11.77 172.4,-15.53 172.4,-15.53 172.4,-33.47 172.4,-33.47 172.4,-37.23 168.63,-41 164.87,-41 164.87,-41 157.33,-41 157.33,-41 153.57,-41 149.8,-37.23 149.8,-33.47 149.8,-33.47 149.8,-15.53 149.8,-15.53 149.8,-11.77 153.57,-8 157.33,-8\"/>\n",
       "<text text-anchor=\"middle\" x=\"161.1\" y=\"-29\" font-family=\"Times,serif\" font-size=\"10.00\">Z</text>\n",
       "</g>\n",
       "<g id=\"clust12\" class=\"cluster\">\n",
       "<title>cluster_13</title>\n",
       "<path fill=\"lightblue\" stroke=\"lightblue\" d=\"M252.53,-107C252.53,-107 260.07,-107 260.07,-107 263.83,-107 267.6,-110.77 267.6,-114.53 267.6,-114.53 267.6,-132.47 267.6,-132.47 267.6,-136.23 263.83,-140 260.07,-140 260.07,-140 252.53,-140 252.53,-140 248.77,-140 245,-136.23 245,-132.47 245,-132.47 245,-114.53 245,-114.53 245,-110.77 248.77,-107 252.53,-107\"/>\n",
       "<text text-anchor=\"middle\" x=\"256.3\" y=\"-128\" font-family=\"Times,serif\" font-size=\"10.00\">X</text>\n",
       "</g>\n",
       "<g id=\"clust13\" class=\"cluster\">\n",
       "<title>cluster_14</title>\n",
       "<path fill=\"lightblue\" stroke=\"lightblue\" d=\"M156,-43C156,-43 166.2,-43 166.2,-43 171.3,-43 176.4,-48.1 176.4,-53.2 176.4,-53.2 176.4,-80.8 176.4,-80.8 176.4,-85.9 171.3,-91 166.2,-91 166.2,-91 156,-91 156,-91 150.9,-91 145.8,-85.9 145.8,-80.8 145.8,-80.8 145.8,-53.2 145.8,-53.2 145.8,-48.1 150.9,-43 156,-43\"/>\n",
       "<text text-anchor=\"middle\" x=\"161.1\" y=\"-79\" font-family=\"Times,serif\" font-size=\"10.00\">CX</text>\n",
       "</g>\n",
       "<g id=\"clust14\" class=\"cluster\">\n",
       "<title>cluster_15</title>\n",
       "<path fill=\"lightblue\" stroke=\"lightblue\" d=\"M307.13,-75C307.13,-75 314.67,-75 314.67,-75 318.43,-75 322.2,-78.77 322.2,-82.53 322.2,-82.53 322.2,-100.47 322.2,-100.47 322.2,-104.23 318.43,-108 314.67,-108 314.67,-108 307.13,-108 307.13,-108 303.37,-108 299.6,-104.23 299.6,-100.47 299.6,-100.47 299.6,-82.53 299.6,-82.53 299.6,-78.77 303.37,-75 307.13,-75\"/>\n",
       "<text text-anchor=\"middle\" x=\"310.9\" y=\"-96\" font-family=\"Times,serif\" font-size=\"10.00\">Y</text>\n",
       "</g>\n",
       "<g id=\"clust15\" class=\"cluster\">\n",
       "<title>cluster_16</title>\n",
       "<path fill=\"lightblue\" stroke=\"lightblue\" d=\"M197.93,-41C197.93,-41 205.47,-41 205.47,-41 209.23,-41 213,-44.77 213,-48.53 213,-48.53 213,-66.47 213,-66.47 213,-70.23 209.23,-74 205.47,-74 205.47,-74 197.93,-74 197.93,-74 194.17,-74 190.4,-70.23 190.4,-66.47 190.4,-66.47 190.4,-48.53 190.4,-48.53 190.4,-44.77 194.17,-41 197.93,-41\"/>\n",
       "<text text-anchor=\"middle\" x=\"201.7\" y=\"-62\" font-family=\"Times,serif\" font-size=\"10.00\">Z</text>\n",
       "</g>\n",
       "<g id=\"clust16\" class=\"cluster\">\n",
       "<title>cluster_17</title>\n",
       "<path fill=\"lightblue\" stroke=\"lightblue\" d=\"M196.93,-8C196.93,-8 205.47,-8 205.47,-8 209.73,-8 214,-12.27 214,-16.53 214,-16.53 214,-32.47 214,-32.47 214,-36.73 209.73,-41 205.47,-41 205.47,-41 196.93,-41 196.93,-41 192.67,-41 188.4,-36.73 188.4,-32.47 188.4,-32.47 188.4,-16.53 188.4,-16.53 188.4,-12.27 192.67,-8 196.93,-8\"/>\n",
       "<text text-anchor=\"middle\" x=\"201.2\" y=\"-29\" font-family=\"Times,serif\" font-size=\"10.00\">H</text>\n",
       "</g>\n",
       "<g id=\"clust17\" class=\"cluster\">\n",
       "<title>cluster_18</title>\n",
       "<path fill=\"lightblue\" stroke=\"lightblue\" d=\"M307.13,-108C307.13,-108 314.67,-108 314.67,-108 318.43,-108 322.2,-111.77 322.2,-115.53 322.2,-115.53 322.2,-133.47 322.2,-133.47 322.2,-137.23 318.43,-141 314.67,-141 314.67,-141 307.13,-141 307.13,-141 303.37,-141 299.6,-137.23 299.6,-133.47 299.6,-133.47 299.6,-115.53 299.6,-115.53 299.6,-111.77 303.37,-108 307.13,-108\"/>\n",
       "<text text-anchor=\"middle\" x=\"310.9\" y=\"-129\" font-family=\"Times,serif\" font-size=\"10.00\">Y</text>\n",
       "</g>\n",
       "<g id=\"clust18\" class=\"cluster\">\n",
       "<title>cluster_19</title>\n",
       "<path fill=\"lightblue\" stroke=\"lightblue\" d=\"M342.73,-75C342.73,-75 350.27,-75 350.27,-75 354.03,-75 357.8,-78.77 357.8,-82.53 357.8,-82.53 357.8,-100.47 357.8,-100.47 357.8,-104.23 354.03,-108 350.27,-108 350.27,-108 342.73,-108 342.73,-108 338.97,-108 335.2,-104.23 335.2,-100.47 335.2,-100.47 335.2,-82.53 335.2,-82.53 335.2,-78.77 338.97,-75 342.73,-75\"/>\n",
       "<text text-anchor=\"middle\" x=\"346.5\" y=\"-96\" font-family=\"Times,serif\" font-size=\"10.00\">Z</text>\n",
       "</g>\n",
       "<g id=\"clust19\" class=\"cluster\">\n",
       "<title>cluster_20</title>\n",
       "<path fill=\"lightblue\" stroke=\"lightblue\" d=\"M238,-17C238,-17 274.6,-17 274.6,-17 280.6,-17 286.6,-23 286.6,-29 286.6,-29 286.6,-53 286.6,-53 286.6,-59 280.6,-65 274.6,-65 274.6,-65 238,-65 238,-65 232,-65 226,-59 226,-53 226,-53 226,-29 226,-29 226,-23 232,-17 238,-17\"/>\n",
       "<text text-anchor=\"middle\" x=\"256.3\" y=\"-53\" font-family=\"Times,serif\" font-size=\"10.00\">CU1(0.5)</text>\n",
       "</g>\n",
       "<g id=\"clust20\" class=\"cluster\">\n",
       "<title>cluster_21</title>\n",
       "<path fill=\"lightblue\" stroke=\"lightblue\" d=\"M306.13,-9C306.13,-9 314.67,-9 314.67,-9 318.93,-9 323.2,-13.27 323.2,-17.53 323.2,-17.53 323.2,-33.47 323.2,-33.47 323.2,-37.73 318.93,-42 314.67,-42 314.67,-42 306.13,-42 306.13,-42 301.87,-42 297.6,-37.73 297.6,-33.47 297.6,-33.47 297.6,-17.53 297.6,-17.53 297.6,-13.27 301.87,-9 306.13,-9\"/>\n",
       "<text text-anchor=\"middle\" x=\"310.4\" y=\"-30\" font-family=\"Times,serif\" font-size=\"10.00\">H</text>\n",
       "</g>\n",
       "<g id=\"clust21\" class=\"cluster\">\n",
       "<title>cluster_22</title>\n",
       "<path fill=\"lightblue\" stroke=\"lightblue\" d=\"M307.13,-42C307.13,-42 314.67,-42 314.67,-42 318.43,-42 322.2,-45.77 322.2,-49.53 322.2,-49.53 322.2,-67.47 322.2,-67.47 322.2,-71.23 318.43,-75 314.67,-75 314.67,-75 307.13,-75 307.13,-75 303.37,-75 299.6,-71.23 299.6,-67.47 299.6,-67.47 299.6,-49.53 299.6,-49.53 299.6,-45.77 303.37,-42 307.13,-42\"/>\n",
       "<text text-anchor=\"middle\" x=\"310.9\" y=\"-63\" font-family=\"Times,serif\" font-size=\"10.00\">X</text>\n",
       "</g>\n",
       "<g id=\"clust22\" class=\"cluster\">\n",
       "<title>cluster_23</title>\n",
       "<path fill=\"lightblue\" stroke=\"lightblue\" d=\"M342.73,-108C342.73,-108 350.27,-108 350.27,-108 354.03,-108 357.8,-111.77 357.8,-115.53 357.8,-115.53 357.8,-133.47 357.8,-133.47 357.8,-137.23 354.03,-141 350.27,-141 350.27,-141 342.73,-141 342.73,-141 338.97,-141 335.2,-137.23 335.2,-133.47 335.2,-133.47 335.2,-115.53 335.2,-115.53 335.2,-111.77 338.97,-108 342.73,-108\"/>\n",
       "<text text-anchor=\"middle\" x=\"346.5\" y=\"-129\" font-family=\"Times,serif\" font-size=\"10.00\">Z</text>\n",
       "</g>\n",
       "<g id=\"clust23\" class=\"cluster\">\n",
       "<title>cluster_24</title>\n",
       "<path fill=\"lightblue\" stroke=\"lightblue\" d=\"M379.33,-52C379.33,-52 387.87,-52 387.87,-52 392.13,-52 396.4,-56.27 396.4,-60.53 396.4,-60.53 396.4,-76.47 396.4,-76.47 396.4,-80.73 392.13,-85 387.87,-85 387.87,-85 379.33,-85 379.33,-85 375.07,-85 370.8,-80.73 370.8,-76.47 370.8,-76.47 370.8,-60.53 370.8,-60.53 370.8,-56.27 375.07,-52 379.33,-52\"/>\n",
       "<text text-anchor=\"middle\" x=\"383.6\" y=\"-73\" font-family=\"Times,serif\" font-size=\"10.00\">H</text>\n",
       "</g>\n",
       "<g id=\"clust24\" class=\"cluster\">\n",
       "<title>cluster_25</title>\n",
       "<path fill=\"lightblue\" stroke=\"lightblue\" d=\"M342.73,-9C342.73,-9 350.27,-9 350.27,-9 354.03,-9 357.8,-12.77 357.8,-16.53 357.8,-16.53 357.8,-34.47 357.8,-34.47 357.8,-38.23 354.03,-42 350.27,-42 350.27,-42 342.73,-42 342.73,-42 338.97,-42 335.2,-38.23 335.2,-34.47 335.2,-34.47 335.2,-16.53 335.2,-16.53 335.2,-12.77 338.97,-9 342.73,-9\"/>\n",
       "<text text-anchor=\"middle\" x=\"346.5\" y=\"-30\" font-family=\"Times,serif\" font-size=\"10.00\">X</text>\n",
       "</g>\n",
       "<g id=\"clust25\" class=\"cluster\">\n",
       "<title>cluster_26</title>\n",
       "<path fill=\"lightblue\" stroke=\"lightblue\" d=\"M342.73,-42C342.73,-42 350.27,-42 350.27,-42 354.03,-42 357.8,-45.77 357.8,-49.53 357.8,-49.53 357.8,-67.47 357.8,-67.47 357.8,-71.23 354.03,-75 350.27,-75 350.27,-75 342.73,-75 342.73,-75 338.97,-75 335.2,-71.23 335.2,-67.47 335.2,-67.47 335.2,-49.53 335.2,-49.53 335.2,-45.77 338.97,-42 342.73,-42\"/>\n",
       "<text text-anchor=\"middle\" x=\"346.5\" y=\"-63\" font-family=\"Times,serif\" font-size=\"10.00\">Y</text>\n",
       "</g>\n",
       "<g id=\"clust26\" class=\"cluster\">\n",
       "<title>cluster_27</title>\n",
       "<path fill=\"lightblue\" stroke=\"lightblue\" d=\"M379,-85C379,-85 389.2,-85 389.2,-85 394.3,-85 399.4,-90.1 399.4,-95.2 399.4,-95.2 399.4,-122.8 399.4,-122.8 399.4,-127.9 394.3,-133 389.2,-133 389.2,-133 379,-133 379,-133 373.9,-133 368.8,-127.9 368.8,-122.8 368.8,-122.8 368.8,-95.2 368.8,-95.2 368.8,-90.1 373.9,-85 379,-85\"/>\n",
       "<text text-anchor=\"middle\" x=\"384.1\" y=\"-121\" font-family=\"Times,serif\" font-size=\"10.00\">CX</text>\n",
       "</g>\n",
       "<!-- (0, 0) -->\n",
       "<g id=\"node1\" class=\"node\">\n",
       "<title>(0, 0)</title>\n",
       "<ellipse fill=\"blue\" stroke=\"blue\" cx=\"20.8\" cy=\"-79\" rx=\"1.8\" ry=\"1.8\"/>\n",
       "<text text-anchor=\"middle\" x=\"9.5\" y=\"-70.8\" font-family=\"Courier,monospace\" font-size=\"8.00\">q[0]</text>\n",
       "</g>\n",
       "<!-- (8, 0) -->\n",
       "<g id=\"node9\" class=\"node\">\n",
       "<title>(8, 0)</title>\n",
       "<ellipse fill=\"black\" stroke=\"black\" cx=\"69.4\" cy=\"-83\" rx=\"1.8\" ry=\"1.8\"/>\n",
       "<text text-anchor=\"middle\" x=\"64.6\" y=\"-74.8\" font-family=\"Helvetica,sans-Serif\" font-size=\"8.00\">0</text>\n",
       "</g>\n",
       "<!-- (0, 0)&#45;&gt;(8, 0) -->\n",
       "<g id=\"edge1\" class=\"edge\">\n",
       "<title>(0, 0)&#45;&gt;(8, 0)</title>\n",
       "<path fill=\"none\" stroke=\"blue\" d=\"M22.61,-79.07C27.69,-79.51 55.31,-81.88 65.02,-82.71\"/>\n",
       "<polygon fill=\"blue\" stroke=\"blue\" points=\"67.42,-82.92 65.33,-83.87 66.42,-82.83 65.42,-82.74 65.42,-82.74 65.42,-82.74 66.42,-82.83 65.52,-81.62 67.42,-82.92 67.42,-82.92\"/>\n",
       "</g>\n",
       "<!-- (2, 0) -->\n",
       "<g id=\"node2\" class=\"node\">\n",
       "<title>(2, 0)</title>\n",
       "<ellipse fill=\"blue\" stroke=\"blue\" cx=\"20.8\" cy=\"-64\" rx=\"1.8\" ry=\"1.8\"/>\n",
       "<text text-anchor=\"middle\" x=\"9.5\" y=\"-55.8\" font-family=\"Courier,monospace\" font-size=\"8.00\">q[1]</text>\n",
       "</g>\n",
       "<!-- (8, 1) -->\n",
       "<g id=\"node10\" class=\"node\">\n",
       "<title>(8, 1)</title>\n",
       "<ellipse fill=\"black\" stroke=\"black\" cx=\"69.4\" cy=\"-68\" rx=\"1.8\" ry=\"1.8\"/>\n",
       "<text text-anchor=\"middle\" x=\"64.6\" y=\"-59.8\" font-family=\"Helvetica,sans-Serif\" font-size=\"8.00\">1</text>\n",
       "</g>\n",
       "<!-- (2, 0)&#45;&gt;(8, 1) -->\n",
       "<g id=\"edge2\" class=\"edge\">\n",
       "<title>(2, 0)&#45;&gt;(8, 1)</title>\n",
       "<path fill=\"none\" stroke=\"blue\" d=\"M22.61,-64.07C27.69,-64.51 55.31,-66.88 65.02,-67.71\"/>\n",
       "<polygon fill=\"blue\" stroke=\"blue\" points=\"67.42,-67.92 65.33,-68.87 66.42,-67.83 65.42,-67.74 65.42,-67.74 65.42,-67.74 66.42,-67.83 65.52,-66.62 67.42,-67.92 67.42,-67.92\"/>\n",
       "</g>\n",
       "<!-- (4, 0) -->\n",
       "<g id=\"node3\" class=\"node\">\n",
       "<title>(4, 0)</title>\n",
       "<ellipse fill=\"blue\" stroke=\"blue\" cx=\"20.8\" cy=\"-49\" rx=\"1.8\" ry=\"1.8\"/>\n",
       "<text text-anchor=\"middle\" x=\"9.5\" y=\"-40.8\" font-family=\"Courier,monospace\" font-size=\"8.00\">q[2]</text>\n",
       "</g>\n",
       "<!-- (11, 0) -->\n",
       "<g id=\"node13\" class=\"node\">\n",
       "<title>(11, 0)</title>\n",
       "<ellipse fill=\"black\" stroke=\"black\" cx=\"123\" cy=\"-38\" rx=\"1.8\" ry=\"1.8\"/>\n",
       "</g>\n",
       "<!-- (4, 0)&#45;&gt;(11, 0) -->\n",
       "<g id=\"edge3\" class=\"edge\">\n",
       "<title>(4, 0)&#45;&gt;(11, 0)</title>\n",
       "<path fill=\"none\" stroke=\"blue\" d=\"M22.93,-48.88C32.68,-47.81 102.96,-40.09 118.82,-38.35\"/>\n",
       "<polygon fill=\"blue\" stroke=\"blue\" points=\"121.01,-38.11 119.14,-39.45 120.01,-38.22 119.02,-38.33 119.02,-38.33 119.02,-38.33 120.01,-38.22 118.9,-37.21 121.01,-38.11 121.01,-38.11\"/>\n",
       "</g>\n",
       "<!-- (6, 0) -->\n",
       "<g id=\"node4\" class=\"node\">\n",
       "<title>(6, 0)</title>\n",
       "<ellipse fill=\"blue\" stroke=\"blue\" cx=\"20.8\" cy=\"-34\" rx=\"1.8\" ry=\"1.8\"/>\n",
       "<text text-anchor=\"middle\" x=\"9.5\" y=\"-25.8\" font-family=\"Courier,monospace\" font-size=\"8.00\">q[3]</text>\n",
       "</g>\n",
       "<!-- (12, 0) -->\n",
       "<g id=\"node14\" class=\"node\">\n",
       "<title>(12, 0)</title>\n",
       "<ellipse fill=\"black\" stroke=\"black\" cx=\"160.6\" cy=\"-15\" rx=\"1.8\" ry=\"1.8\"/>\n",
       "</g>\n",
       "<!-- (6, 0)&#45;&gt;(12, 0) -->\n",
       "<g id=\"edge4\" class=\"edge\">\n",
       "<title>(6, 0)&#45;&gt;(12, 0)</title>\n",
       "<path fill=\"none\" stroke=\"blue\" d=\"M22.68,-33.88C33.34,-32.41 137.63,-18.03 156.64,-15.41\"/>\n",
       "<polygon fill=\"blue\" stroke=\"blue\" points=\"158.8,-15.11 156.97,-16.5 157.81,-15.25 156.82,-15.38 156.82,-15.38 156.82,-15.38 157.81,-15.25 156.66,-14.27 158.8,-15.11 158.8,-15.11\"/>\n",
       "</g>\n",
       "<!-- (1, 0) -->\n",
       "<g id=\"node5\" class=\"node\">\n",
       "<title>(1, 0)</title>\n",
       "<ellipse fill=\"blue\" stroke=\"blue\" cx=\"418.2\" cy=\"-98\" rx=\"1.8\" ry=\"1.8\"/>\n",
       "<text text-anchor=\"middle\" x=\"406.9\" y=\"-89.8\" font-family=\"Courier,monospace\" font-size=\"8.00\">q[0]</text>\n",
       "</g>\n",
       "<!-- (3, 0) -->\n",
       "<g id=\"node6\" class=\"node\">\n",
       "<title>(3, 0)</title>\n",
       "<ellipse fill=\"blue\" stroke=\"blue\" cx=\"418.2\" cy=\"-68\" rx=\"1.8\" ry=\"1.8\"/>\n",
       "<text text-anchor=\"middle\" x=\"406.9\" y=\"-59.8\" font-family=\"Courier,monospace\" font-size=\"8.00\">q[1]</text>\n",
       "</g>\n",
       "<!-- (5, 0) -->\n",
       "<g id=\"node7\" class=\"node\">\n",
       "<title>(5, 0)</title>\n",
       "<ellipse fill=\"blue\" stroke=\"blue\" cx=\"418.2\" cy=\"-53\" rx=\"1.8\" ry=\"1.8\"/>\n",
       "<text text-anchor=\"middle\" x=\"406.9\" y=\"-44.8\" font-family=\"Courier,monospace\" font-size=\"8.00\">q[2]</text>\n",
       "</g>\n",
       "<!-- (7, 0) -->\n",
       "<g id=\"node8\" class=\"node\">\n",
       "<title>(7, 0)</title>\n",
       "<ellipse fill=\"blue\" stroke=\"blue\" cx=\"418.2\" cy=\"-83\" rx=\"1.8\" ry=\"1.8\"/>\n",
       "<text text-anchor=\"middle\" x=\"406.9\" y=\"-74.8\" font-family=\"Courier,monospace\" font-size=\"8.00\">q[3]</text>\n",
       "</g>\n",
       "<!-- (9, 0) -->\n",
       "<g id=\"node11\" class=\"node\">\n",
       "<title>(9, 0)</title>\n",
       "<ellipse fill=\"black\" stroke=\"black\" cx=\"201.2\" cy=\"-114\" rx=\"1.8\" ry=\"1.8\"/>\n",
       "</g>\n",
       "<!-- (8, 0)&#45;&gt;(9, 0) -->\n",
       "<g id=\"edge6\" class=\"edge\">\n",
       "<title>(8, 0)&#45;&gt;(9, 0)</title>\n",
       "<path fill=\"none\" stroke=\"blue\" d=\"M71.41,-83.47C76,-85.6 95.41,-94.4 112.2,-99 144.72,-107.9 185.52,-112.51 197.04,-113.69\"/>\n",
       "<polygon fill=\"blue\" stroke=\"blue\" points=\"199.32,-113.92 197.22,-114.84 198.32,-113.82 197.33,-113.72 197.33,-113.72 197.33,-113.72 198.32,-113.82 197.44,-112.6 199.32,-113.92 199.32,-113.92\"/>\n",
       "</g>\n",
       "<!-- (10, 0) -->\n",
       "<g id=\"node12\" class=\"node\">\n",
       "<title>(10, 0)</title>\n",
       "<ellipse fill=\"black\" stroke=\"black\" cx=\"123\" cy=\"-71\" rx=\"1.8\" ry=\"1.8\"/>\n",
       "</g>\n",
       "<!-- (8, 1)&#45;&gt;(10, 0) -->\n",
       "<g id=\"edge5\" class=\"edge\">\n",
       "<title>(8, 1)&#45;&gt;(10, 0)</title>\n",
       "<path fill=\"none\" stroke=\"blue\" d=\"M71.3,-68.05C77.02,-68.38 108.57,-70.22 118.8,-70.81\"/>\n",
       "<polygon fill=\"blue\" stroke=\"blue\" points=\"120.91,-70.94 118.85,-71.94 119.91,-70.88 118.91,-70.82 118.91,-70.82 118.91,-70.82 119.91,-70.88 118.98,-69.7 120.91,-70.94 120.91,-70.94\"/>\n",
       "</g>\n",
       "<!-- (13, 0) -->\n",
       "<g id=\"node15\" class=\"node\">\n",
       "<title>(13, 0)</title>\n",
       "<ellipse fill=\"black\" stroke=\"black\" cx=\"255.8\" cy=\"-114\" rx=\"1.8\" ry=\"1.8\"/>\n",
       "</g>\n",
       "<!-- (9, 0)&#45;&gt;(13, 0) -->\n",
       "<g id=\"edge7\" class=\"edge\">\n",
       "<title>(9, 0)&#45;&gt;(13, 0)</title>\n",
       "<path fill=\"none\" stroke=\"blue\" d=\"M203.11,-114C208.95,-114 241.11,-114 251.54,-114\"/>\n",
       "<polygon fill=\"blue\" stroke=\"blue\" points=\"253.69,-114 251.69,-115.13 252.69,-114 251.69,-114 251.69,-114 251.69,-114 252.69,-114 251.69,-112.88 253.69,-114 253.69,-114\"/>\n",
       "</g>\n",
       "<!-- (14, 0) -->\n",
       "<g id=\"node16\" class=\"node\">\n",
       "<title>(14, 0)</title>\n",
       "<ellipse fill=\"black\" stroke=\"black\" cx=\"160.6\" cy=\"-65\" rx=\"1.8\" ry=\"1.8\"/>\n",
       "<text text-anchor=\"middle\" x=\"155.8\" y=\"-56.8\" font-family=\"Helvetica,sans-Serif\" font-size=\"8.00\">0</text>\n",
       "</g>\n",
       "<!-- (10, 0)&#45;&gt;(14, 0) -->\n",
       "<g id=\"edge8\" class=\"edge\">\n",
       "<title>(10, 0)&#45;&gt;(14, 0)</title>\n",
       "<path fill=\"none\" stroke=\"blue\" d=\"M124.88,-70.85C129.23,-70.12 148.51,-66.87 156.31,-65.55\"/>\n",
       "<polygon fill=\"blue\" stroke=\"blue\" points=\"158.33,-65.21 156.55,-66.66 157.35,-65.38 156.36,-65.55 156.36,-65.55 156.36,-65.55 157.35,-65.38 156.17,-64.44 158.33,-65.21 158.33,-65.21\"/>\n",
       "</g>\n",
       "<!-- (14, 1) -->\n",
       "<g id=\"node17\" class=\"node\">\n",
       "<title>(14, 1)</title>\n",
       "<ellipse fill=\"black\" stroke=\"black\" cx=\"160.6\" cy=\"-50\" rx=\"1.8\" ry=\"1.8\"/>\n",
       "<text text-anchor=\"middle\" x=\"155.8\" y=\"-41.8\" font-family=\"Helvetica,sans-Serif\" font-size=\"8.00\">1</text>\n",
       "</g>\n",
       "<!-- (11, 0)&#45;&gt;(14, 1) -->\n",
       "<g id=\"edge9\" class=\"edge\">\n",
       "<title>(11, 0)&#45;&gt;(14, 1)</title>\n",
       "<path fill=\"none\" stroke=\"blue\" d=\"M124.88,-38.3C129.23,-39.76 148.51,-46.26 156.31,-48.89\"/>\n",
       "<polygon fill=\"blue\" stroke=\"blue\" points=\"158.33,-49.57 156.08,-50 157.39,-49.25 156.44,-48.93 156.44,-48.93 156.44,-48.93 157.39,-49.25 156.8,-47.87 158.33,-49.57 158.33,-49.57\"/>\n",
       "</g>\n",
       "<!-- (17, 0) -->\n",
       "<g id=\"node20\" class=\"node\">\n",
       "<title>(17, 0)</title>\n",
       "<ellipse fill=\"black\" stroke=\"black\" cx=\"201.2\" cy=\"-15\" rx=\"1.8\" ry=\"1.8\"/>\n",
       "</g>\n",
       "<!-- (12, 0)&#45;&gt;(17, 0) -->\n",
       "<g id=\"edge10\" class=\"edge\">\n",
       "<title>(12, 0)&#45;&gt;(17, 0)</title>\n",
       "<path fill=\"none\" stroke=\"blue\" d=\"M162.55,-15C167.27,-15 188.18,-15 196.63,-15\"/>\n",
       "<polygon fill=\"blue\" stroke=\"blue\" points=\"198.83,-15 196.83,-16.13 197.83,-15 196.83,-15 196.83,-15 196.83,-15 197.83,-15 196.83,-13.88 198.83,-15 198.83,-15\"/>\n",
       "</g>\n",
       "<!-- (18, 0) -->\n",
       "<g id=\"node21\" class=\"node\">\n",
       "<title>(18, 0)</title>\n",
       "<ellipse fill=\"black\" stroke=\"black\" cx=\"310.4\" cy=\"-115\" rx=\"1.8\" ry=\"1.8\"/>\n",
       "</g>\n",
       "<!-- (13, 0)&#45;&gt;(18, 0) -->\n",
       "<g id=\"edge11\" class=\"edge\">\n",
       "<title>(13, 0)&#45;&gt;(18, 0)</title>\n",
       "<path fill=\"none\" stroke=\"blue\" d=\"M257.71,-114.02C263.55,-114.13 295.71,-114.74 306.14,-114.94\"/>\n",
       "<polygon fill=\"blue\" stroke=\"blue\" points=\"308.29,-114.98 306.27,-116.07 307.29,-114.96 306.29,-114.94 306.29,-114.94 306.29,-114.94 307.29,-114.96 306.31,-113.82 308.29,-114.98 308.29,-114.98\"/>\n",
       "</g>\n",
       "<!-- (15, 0) -->\n",
       "<g id=\"node18\" class=\"node\">\n",
       "<title>(15, 0)</title>\n",
       "<ellipse fill=\"black\" stroke=\"black\" cx=\"310.4\" cy=\"-82\" rx=\"1.8\" ry=\"1.8\"/>\n",
       "</g>\n",
       "<!-- (14, 0)&#45;&gt;(15, 0) -->\n",
       "<g id=\"edge12\" class=\"edge\">\n",
       "<title>(14, 0)&#45;&gt;(15, 0)</title>\n",
       "<path fill=\"none\" stroke=\"blue\" d=\"M162.59,-65.49C166.04,-67.19 177.9,-72.79 188.4,-75 234.34,-84.67 292.12,-82.8 306.2,-82.16\"/>\n",
       "<polygon fill=\"blue\" stroke=\"blue\" points=\"308.42,-82.05 306.47,-83.27 307.42,-82.1 306.42,-82.15 306.42,-82.15 306.42,-82.15 307.42,-82.1 306.36,-81.03 308.42,-82.05 308.42,-82.05\"/>\n",
       "</g>\n",
       "<!-- (16, 0) -->\n",
       "<g id=\"node19\" class=\"node\">\n",
       "<title>(16, 0)</title>\n",
       "<ellipse fill=\"black\" stroke=\"black\" cx=\"201.2\" cy=\"-48\" rx=\"1.8\" ry=\"1.8\"/>\n",
       "</g>\n",
       "<!-- (14, 1)&#45;&gt;(16, 0) -->\n",
       "<g id=\"edge13\" class=\"edge\">\n",
       "<title>(14, 1)&#45;&gt;(16, 0)</title>\n",
       "<path fill=\"none\" stroke=\"blue\" d=\"M162.55,-49.95C167.27,-49.71 188.18,-48.62 196.63,-48.18\"/>\n",
       "<polygon fill=\"blue\" stroke=\"blue\" points=\"198.83,-48.07 196.89,-49.3 197.83,-48.12 196.83,-48.17 196.83,-48.17 196.83,-48.17 197.83,-48.12 196.77,-47.05 198.83,-48.07 198.83,-48.07\"/>\n",
       "</g>\n",
       "<!-- (19, 0) -->\n",
       "<g id=\"node22\" class=\"node\">\n",
       "<title>(19, 0)</title>\n",
       "<ellipse fill=\"black\" stroke=\"black\" cx=\"346\" cy=\"-82\" rx=\"1.8\" ry=\"1.8\"/>\n",
       "</g>\n",
       "<!-- (15, 0)&#45;&gt;(19, 0) -->\n",
       "<g id=\"edge14\" class=\"edge\">\n",
       "<title>(15, 0)&#45;&gt;(19, 0)</title>\n",
       "<path fill=\"none\" stroke=\"blue\" d=\"M312.23,-82C316.26,-82 333.91,-82 341.51,-82\"/>\n",
       "<polygon fill=\"blue\" stroke=\"blue\" points=\"343.8,-82 341.8,-83.13 342.8,-82 341.8,-82 341.8,-82 341.8,-82 342.8,-82 341.8,-80.88 343.8,-82 343.8,-82\"/>\n",
       "</g>\n",
       "<!-- (20, 0) -->\n",
       "<g id=\"node23\" class=\"node\">\n",
       "<title>(20, 0)</title>\n",
       "<ellipse fill=\"black\" stroke=\"black\" cx=\"255.8\" cy=\"-39\" rx=\"1.8\" ry=\"1.8\"/>\n",
       "<text text-anchor=\"middle\" x=\"251\" y=\"-30.8\" font-family=\"Helvetica,sans-Serif\" font-size=\"8.00\">0</text>\n",
       "</g>\n",
       "<!-- (16, 0)&#45;&gt;(20, 0) -->\n",
       "<g id=\"edge15\" class=\"edge\">\n",
       "<title>(16, 0)&#45;&gt;(20, 0)</title>\n",
       "<path fill=\"none\" stroke=\"blue\" d=\"M203.11,-47.84C208.95,-46.85 241.11,-41.34 251.54,-39.56\"/>\n",
       "<polygon fill=\"blue\" stroke=\"blue\" points=\"253.69,-39.19 251.91,-40.64 252.7,-39.36 251.72,-39.53 251.72,-39.53 251.72,-39.53 252.7,-39.36 251.53,-38.42 253.69,-39.19 253.69,-39.19\"/>\n",
       "</g>\n",
       "<!-- (20, 1) -->\n",
       "<g id=\"node24\" class=\"node\">\n",
       "<title>(20, 1)</title>\n",
       "<ellipse fill=\"black\" stroke=\"black\" cx=\"255.8\" cy=\"-24\" rx=\"1.8\" ry=\"1.8\"/>\n",
       "<text text-anchor=\"middle\" x=\"251\" y=\"-15.8\" font-family=\"Helvetica,sans-Serif\" font-size=\"8.00\">1</text>\n",
       "</g>\n",
       "<!-- (17, 0)&#45;&gt;(20, 1) -->\n",
       "<g id=\"edge16\" class=\"edge\">\n",
       "<title>(17, 0)&#45;&gt;(20, 1)</title>\n",
       "<path fill=\"none\" stroke=\"blue\" d=\"M203.11,-15.16C208.95,-16.15 241.11,-21.66 251.54,-23.44\"/>\n",
       "<polygon fill=\"blue\" stroke=\"blue\" points=\"253.69,-23.81 251.53,-24.58 252.7,-23.64 251.72,-23.47 251.72,-23.47 251.72,-23.47 252.7,-23.64 251.91,-22.36 253.69,-23.81 253.69,-23.81\"/>\n",
       "</g>\n",
       "<!-- (23, 0) -->\n",
       "<g id=\"node27\" class=\"node\">\n",
       "<title>(23, 0)</title>\n",
       "<ellipse fill=\"black\" stroke=\"black\" cx=\"346\" cy=\"-115\" rx=\"1.8\" ry=\"1.8\"/>\n",
       "</g>\n",
       "<!-- (18, 0)&#45;&gt;(23, 0) -->\n",
       "<g id=\"edge17\" class=\"edge\">\n",
       "<title>(18, 0)&#45;&gt;(23, 0)</title>\n",
       "<path fill=\"none\" stroke=\"blue\" d=\"M312.23,-115C316.26,-115 333.91,-115 341.51,-115\"/>\n",
       "<polygon fill=\"blue\" stroke=\"blue\" points=\"343.8,-115 341.8,-116.13 342.8,-115 341.8,-115 341.8,-115 341.8,-115 342.8,-115 341.8,-113.88 343.8,-115 343.8,-115\"/>\n",
       "</g>\n",
       "<!-- (24, 0) -->\n",
       "<g id=\"node28\" class=\"node\">\n",
       "<title>(24, 0)</title>\n",
       "<ellipse fill=\"black\" stroke=\"black\" cx=\"383.6\" cy=\"-59\" rx=\"1.8\" ry=\"1.8\"/>\n",
       "</g>\n",
       "<!-- (19, 0)&#45;&gt;(24, 0) -->\n",
       "<g id=\"edge18\" class=\"edge\">\n",
       "<title>(19, 0)&#45;&gt;(24, 0)</title>\n",
       "<path fill=\"none\" stroke=\"blue\" d=\"M348.03,-81.47C349.97,-80.46 354.3,-78.17 357.8,-76 366.04,-70.9 375.37,-64.26 379.88,-60.99\"/>\n",
       "<polygon fill=\"blue\" stroke=\"blue\" points=\"381.68,-59.68 380.72,-61.77 380.87,-60.27 380.06,-60.86 380.06,-60.86 380.06,-60.86 380.87,-60.27 379.4,-59.95 381.68,-59.68 381.68,-59.68\"/>\n",
       "</g>\n",
       "<!-- (21, 0) -->\n",
       "<g id=\"node25\" class=\"node\">\n",
       "<title>(21, 0)</title>\n",
       "<ellipse fill=\"black\" stroke=\"black\" cx=\"310.4\" cy=\"-16\" rx=\"1.8\" ry=\"1.8\"/>\n",
       "</g>\n",
       "<!-- (20, 0)&#45;&gt;(21, 0) -->\n",
       "<g id=\"edge20\" class=\"edge\">\n",
       "<title>(20, 0)&#45;&gt;(21, 0)</title>\n",
       "<path fill=\"none\" stroke=\"blue\" d=\"M257.98,-38.82C262.09,-38.18 276.04,-35.74 286.6,-31 294.48,-27.46 302.69,-21.36 306.77,-18.14\"/>\n",
       "<polygon fill=\"blue\" stroke=\"blue\" points=\"308.59,-16.68 307.74,-18.81 307.81,-17.3 307.03,-17.93 307.03,-17.93 307.03,-17.93 307.81,-17.3 306.32,-17.05 308.59,-16.68 308.59,-16.68\"/>\n",
       "</g>\n",
       "<!-- (22, 0) -->\n",
       "<g id=\"node26\" class=\"node\">\n",
       "<title>(22, 0)</title>\n",
       "<ellipse fill=\"black\" stroke=\"black\" cx=\"310.4\" cy=\"-49\" rx=\"1.8\" ry=\"1.8\"/>\n",
       "</g>\n",
       "<!-- (20, 1)&#45;&gt;(22, 0) -->\n",
       "<g id=\"edge19\" class=\"edge\">\n",
       "<title>(20, 1)&#45;&gt;(22, 0)</title>\n",
       "<path fill=\"none\" stroke=\"blue\" d=\"M257.8,-24.08C261.72,-24.43 276.4,-26.11 286.6,-32 292.59,-35.46 292,-38.94 297.6,-43 300.28,-44.94 303.68,-46.6 306.14,-47.68\"/>\n",
       "<polygon fill=\"blue\" stroke=\"blue\" points=\"308.23,-48.55 305.95,-48.82 307.3,-48.16 306.38,-47.78 306.38,-47.78 306.38,-47.78 307.3,-48.16 306.81,-46.74 308.23,-48.55 308.23,-48.55\"/>\n",
       "</g>\n",
       "<!-- (25, 0) -->\n",
       "<g id=\"node29\" class=\"node\">\n",
       "<title>(25, 0)</title>\n",
       "<ellipse fill=\"black\" stroke=\"black\" cx=\"346\" cy=\"-16\" rx=\"1.8\" ry=\"1.8\"/>\n",
       "</g>\n",
       "<!-- (21, 0)&#45;&gt;(25, 0) -->\n",
       "<g id=\"edge21\" class=\"edge\">\n",
       "<title>(21, 0)&#45;&gt;(25, 0)</title>\n",
       "<path fill=\"none\" stroke=\"blue\" d=\"M312.23,-16C316.26,-16 333.91,-16 341.51,-16\"/>\n",
       "<polygon fill=\"blue\" stroke=\"blue\" points=\"343.8,-16 341.8,-17.13 342.8,-16 341.8,-16 341.8,-16 341.8,-16 342.8,-16 341.8,-14.88 343.8,-16 343.8,-16\"/>\n",
       "</g>\n",
       "<!-- (26, 0) -->\n",
       "<g id=\"node30\" class=\"node\">\n",
       "<title>(26, 0)</title>\n",
       "<ellipse fill=\"black\" stroke=\"black\" cx=\"346\" cy=\"-49\" rx=\"1.8\" ry=\"1.8\"/>\n",
       "</g>\n",
       "<!-- (22, 0)&#45;&gt;(26, 0) -->\n",
       "<g id=\"edge22\" class=\"edge\">\n",
       "<title>(22, 0)&#45;&gt;(26, 0)</title>\n",
       "<path fill=\"none\" stroke=\"blue\" d=\"M312.23,-49C316.26,-49 333.91,-49 341.51,-49\"/>\n",
       "<polygon fill=\"blue\" stroke=\"blue\" points=\"343.8,-49 341.8,-50.13 342.8,-49 341.8,-49 341.8,-49 341.8,-49 342.8,-49 341.8,-47.88 343.8,-49 343.8,-49\"/>\n",
       "</g>\n",
       "<!-- (27, 1) -->\n",
       "<g id=\"node32\" class=\"node\">\n",
       "<title>(27, 1)</title>\n",
       "<ellipse fill=\"black\" stroke=\"black\" cx=\"383.6\" cy=\"-107\" rx=\"1.8\" ry=\"1.8\"/>\n",
       "<text text-anchor=\"middle\" x=\"378.8\" y=\"-98.8\" font-family=\"Helvetica,sans-Serif\" font-size=\"8.00\">1</text>\n",
       "</g>\n",
       "<!-- (23, 0)&#45;&gt;(27, 1) -->\n",
       "<g id=\"edge23\" class=\"edge\">\n",
       "<title>(23, 0)&#45;&gt;(27, 1)</title>\n",
       "<path fill=\"none\" stroke=\"blue\" d=\"M347.88,-114.8C352.23,-113.83 371.51,-109.49 379.31,-107.74\"/>\n",
       "<polygon fill=\"blue\" stroke=\"blue\" points=\"381.33,-107.28 379.63,-108.82 380.36,-107.5 379.38,-107.72 379.38,-107.72 379.38,-107.72 380.36,-107.5 379.13,-106.63 381.33,-107.28 381.33,-107.28\"/>\n",
       "</g>\n",
       "<!-- (24, 0)&#45;&gt;(3, 0) -->\n",
       "<g id=\"edge24\" class=\"edge\">\n",
       "<title>(24, 0)&#45;&gt;(3, 0)</title>\n",
       "<path fill=\"none\" stroke=\"blue\" d=\"M385.41,-59.22C389.32,-60.3 406.44,-65.03 413.81,-67.06\"/>\n",
       "<polygon fill=\"blue\" stroke=\"blue\" points=\"416.04,-67.68 413.81,-68.23 415.08,-67.41 414.11,-67.15 414.11,-67.15 414.11,-67.15 415.08,-67.41 414.41,-66.06 416.04,-67.68 416.04,-67.68\"/>\n",
       "</g>\n",
       "<!-- (25, 0)&#45;&gt;(5, 0) -->\n",
       "<g id=\"edge25\" class=\"edge\">\n",
       "<title>(25, 0)&#45;&gt;(5, 0)</title>\n",
       "<path fill=\"none\" stroke=\"blue\" d=\"M347.79,-16.42C354.45,-19.93 401.44,-44.7 414.08,-51.35\"/>\n",
       "<polygon fill=\"blue\" stroke=\"blue\" points=\"416.13,-52.43 413.83,-52.5 415.24,-51.97 414.36,-51.5 414.36,-51.5 414.36,-51.5 415.24,-51.97 414.88,-50.51 416.13,-52.43 416.13,-52.43\"/>\n",
       "</g>\n",
       "<!-- (27, 0) -->\n",
       "<g id=\"node31\" class=\"node\">\n",
       "<title>(27, 0)</title>\n",
       "<ellipse fill=\"black\" stroke=\"black\" cx=\"383.6\" cy=\"-92\" rx=\"1.8\" ry=\"1.8\"/>\n",
       "<text text-anchor=\"middle\" x=\"378.8\" y=\"-83.8\" font-family=\"Helvetica,sans-Serif\" font-size=\"8.00\">0</text>\n",
       "</g>\n",
       "<!-- (26, 0)&#45;&gt;(27, 0) -->\n",
       "<g id=\"edge26\" class=\"edge\">\n",
       "<title>(26, 0)&#45;&gt;(27, 0)</title>\n",
       "<path fill=\"none\" stroke=\"blue\" d=\"M347.44,-50.34C349.24,-55.62 356.51,-75.13 368.8,-86 371.98,-88.81 376.68,-90.47 379.69,-91.31\"/>\n",
       "<polygon fill=\"blue\" stroke=\"blue\" points=\"381.76,-91.83 379.54,-92.43 380.79,-91.58 379.82,-91.34 379.82,-91.34 379.82,-91.34 380.79,-91.58 380.09,-90.25 381.76,-91.83 381.76,-91.83\"/>\n",
       "</g>\n",
       "<!-- (27, 0)&#45;&gt;(7, 0) -->\n",
       "<g id=\"edge28\" class=\"edge\">\n",
       "<title>(27, 0)&#45;&gt;(7, 0)</title>\n",
       "<path fill=\"none\" stroke=\"blue\" d=\"M385.41,-91.78C389.32,-90.7 406.44,-85.97 413.81,-83.94\"/>\n",
       "<polygon fill=\"blue\" stroke=\"blue\" points=\"416.04,-83.32 414.41,-84.94 415.08,-83.59 414.11,-83.85 414.11,-83.85 414.11,-83.85 415.08,-83.59 413.81,-82.77 416.04,-83.32 416.04,-83.32\"/>\n",
       "</g>\n",
       "<!-- (27, 1)&#45;&gt;(1, 0) -->\n",
       "<g id=\"edge27\" class=\"edge\">\n",
       "<title>(27, 1)&#45;&gt;(1, 0)</title>\n",
       "<path fill=\"none\" stroke=\"blue\" d=\"M385.41,-106.78C389.32,-105.7 406.44,-100.97 413.81,-98.94\"/>\n",
       "<polygon fill=\"blue\" stroke=\"blue\" points=\"416.04,-98.32 414.41,-99.94 415.08,-98.59 414.11,-98.85 414.11,-98.85 414.11,-98.85 415.08,-98.59 413.81,-97.77 416.04,-98.32 416.04,-98.32\"/>\n",
       "</g>\n",
       "</g>\n",
       "</svg>\n"
      ],
      "text/plain": [
       "<graphviz.graphs.Digraph at 0x7f131dcbda50>"
      ]
     },
     "execution_count": 80,
     "metadata": {},
     "output_type": "execute_result"
    }
   ],
   "source": [
    "# Graph visualization\n",
    "G = Graph(c)\n",
    "G.get_DAG()"
   ]
  },
  {
   "cell_type": "code",
   "execution_count": 81,
   "metadata": {},
   "outputs": [
    {
     "data": {
      "image/svg+xml": [
       "<?xml version=\"1.0\" encoding=\"UTF-8\" standalone=\"no\"?>\n",
       "<!DOCTYPE svg PUBLIC \"-//W3C//DTD SVG 1.1//EN\"\n",
       " \"http://www.w3.org/Graphics/SVG/1.1/DTD/svg11.dtd\">\n",
       "<!-- Generated by graphviz version 2.43.0 (0)\n",
       " -->\n",
       "<!-- Title: Qubit connectivity Pages: 1 -->\n",
       "<svg width=\"148pt\" height=\"151pt\"\n",
       " viewBox=\"0.00 0.00 147.63 150.52\" xmlns=\"http://www.w3.org/2000/svg\" xmlns:xlink=\"http://www.w3.org/1999/xlink\">\n",
       "<g id=\"graph0\" class=\"graph\" transform=\"scale(1 1) rotate(0) translate(4 146.52)\">\n",
       "<title>Qubit connectivity</title>\n",
       "<polygon fill=\"white\" stroke=\"transparent\" points=\"-4,4 -4,-146.52 143.63,-146.52 143.63,4 -4,4\"/>\n",
       "<!-- q[0] -->\n",
       "<g id=\"node1\" class=\"node\">\n",
       "<title>q[0]</title>\n",
       "<ellipse fill=\"none\" stroke=\"blue\" cx=\"24.14\" cy=\"-59.73\" rx=\"24.27\" ry=\"24.27\"/>\n",
       "<text text-anchor=\"middle\" x=\"24.14\" y=\"-57.23\" font-family=\"Courier,monospace\" font-size=\"10.00\">q[0]</text>\n",
       "</g>\n",
       "<!-- q[1] -->\n",
       "<g id=\"node2\" class=\"node\">\n",
       "<title>q[1]</title>\n",
       "<ellipse fill=\"none\" stroke=\"blue\" cx=\"115.49\" cy=\"-82.38\" rx=\"24.27\" ry=\"24.27\"/>\n",
       "<text text-anchor=\"middle\" x=\"115.49\" y=\"-79.88\" font-family=\"Courier,monospace\" font-size=\"10.00\">q[1]</text>\n",
       "</g>\n",
       "<!-- q[0]&#45;&#45;q[1] -->\n",
       "<g id=\"edge1\" class=\"edge\">\n",
       "<title>q[0]&#45;&#45;q[1]</title>\n",
       "<path fill=\"none\" stroke=\"black\" d=\"M47.66,-65.56C61.3,-68.94 78.42,-73.19 92.04,-76.56\"/>\n",
       "</g>\n",
       "<!-- q[3] -->\n",
       "<g id=\"node3\" class=\"node\">\n",
       "<title>q[3]</title>\n",
       "<ellipse fill=\"none\" stroke=\"blue\" cx=\"70.3\" cy=\"-24.14\" rx=\"24.27\" ry=\"24.27\"/>\n",
       "<text text-anchor=\"middle\" x=\"70.3\" y=\"-21.64\" font-family=\"Courier,monospace\" font-size=\"10.00\">q[3]</text>\n",
       "</g>\n",
       "<!-- q[0]&#45;&#45;q[3] -->\n",
       "<g id=\"edge2\" class=\"edge\">\n",
       "<title>q[0]&#45;&#45;q[3]</title>\n",
       "<path fill=\"none\" stroke=\"black\" d=\"M43.45,-44.84C45.92,-42.93 48.45,-40.98 50.92,-39.08\"/>\n",
       "</g>\n",
       "<!-- q[2] -->\n",
       "<g id=\"node4\" class=\"node\">\n",
       "<title>q[2]</title>\n",
       "<ellipse fill=\"none\" stroke=\"blue\" cx=\"69.61\" cy=\"-118.38\" rx=\"24.27\" ry=\"24.27\"/>\n",
       "<text text-anchor=\"middle\" x=\"69.61\" y=\"-115.88\" font-family=\"Courier,monospace\" font-size=\"10.00\">q[2]</text>\n",
       "</g>\n",
       "<!-- q[1]&#45;&#45;q[2] -->\n",
       "<g id=\"edge3\" class=\"edge\">\n",
       "<title>q[1]&#45;&#45;q[2]</title>\n",
       "<path fill=\"none\" stroke=\"black\" d=\"M96.3,-97.44C93.85,-99.37 91.33,-101.34 88.87,-103.27\"/>\n",
       "</g>\n",
       "<!-- q[2]&#45;&#45;q[3] -->\n",
       "<g id=\"edge4\" class=\"edge\">\n",
       "<title>q[2]&#45;&#45;q[3]</title>\n",
       "<path fill=\"none\" stroke=\"black\" d=\"M69.79,-94.11C69.89,-80.04 70.02,-62.38 70.12,-48.32\"/>\n",
       "</g>\n",
       "</g>\n",
       "</svg>\n"
      ],
      "text/plain": [
       "<graphviz.graphs.Graph at 0x7f135769b760>"
      ]
     },
     "execution_count": 81,
     "metadata": {},
     "output_type": "execute_result"
    }
   ],
   "source": [
    "# Qubit connectivity graph\n",
    "G.get_qubit_graph()"
   ]
  },
  {
   "cell_type": "code",
   "execution_count": 82,
   "metadata": {},
   "outputs": [
    {
     "data": {
      "image/png": "[encoded data removed]",
      "text/plain": [
       "<Figure size 956.385x367.889 with 1 Axes>"
      ]
     },
     "execution_count": 82,
     "metadata": {},
     "output_type": "execute_result"
    }
   ],
   "source": [
    "# Visualization via qiksit\n",
    "tk_to_qiskit(c).draw('mpl', style='clifford')"
   ]
  },
  {
   "cell_type": "code",
   "execution_count": 83,
   "metadata": {},
   "outputs": [
    {
     "name": "stdout",
     "output_type": "stream",
     "text": [
      "0: ───@───────H───X───Y───Z───────────────X───\n",
      "      │                                   │\n",
      "1: ───@^0.5───X───@───Y───Z───────H───────┼───\n",
      "                  │                       │\n",
      "2: ───Y───────────X───Z───@───────H───X───┼───\n",
      "                          │               │\n",
      "3: ───Z───────H───────────@^0.5───X───Y───@───\n"
     ]
    }
   ],
   "source": [
    "# Visualization via cirq\n",
    "print(tk_to_cirq(c))"
   ]
  },
  {
   "cell_type": "code",
   "execution_count": 84,
   "metadata": {},
   "outputs": [],
   "source": [
    "# Visualization via latex\n",
    "c.to_latex_file(\"c.tex\")"
   ]
  },
  {
   "cell_type": "markdown",
   "metadata": {},
   "source": [
    "### Commands"
   ]
  },
  {
   "cell_type": "code",
   "execution_count": 85,
   "metadata": {},
   "outputs": [
    {
     "name": "stdout",
     "output_type": "stream",
     "text": [
      "[CU1(0.5) q[0], q[1];, Y q[2];, Z q[3];, H q[0];, X q[1];, H q[3];, X q[0];, CX q[1], q[2];, Y q[0];, Y q[1];, Z q[2];, Z q[0];, Z q[1];, CU1(0.5) q[2], q[3];, H q[1];, H q[2];, X q[3];, X q[2];, Y q[3];, CX q[3], q[0];]\n"
     ]
    }
   ],
   "source": [
    "# Retrieve a list of operations comprising a circuit, represented as a Command object\n",
    "cmds = c.get_commands()\n",
    "print(cmds)"
   ]
  },
  {
   "cell_type": "code",
   "execution_count": 86,
   "metadata": {},
   "outputs": [
    {
     "name": "stdout",
     "output_type": "stream",
     "text": [
      "CU1(0.5)\n",
      "[q[0], q[1]]\n"
     ]
    }
   ],
   "source": [
    "# Commands are defined by an operations and the qubits it acts on\n",
    "cmd0 = cmds[0]\n",
    "\n",
    "# Get the operator\n",
    "op0 = cmd0.op\n",
    "print(op0)\n",
    "\n",
    "# Get the qubits acting on \n",
    "qubits0 = cmd0.args\n",
    "print(qubits0)"
   ]
  },
  {
   "cell_type": "code",
   "execution_count": 87,
   "metadata": {},
   "outputs": [
    {
     "data": {
      "text/plain": [
       "(<OpType.CU1: 58>, [0.5])"
      ]
     },
     "execution_count": 87,
     "metadata": {},
     "output_type": "execute_result"
    }
   ],
   "source": [
    "# Get the operator's name\n",
    "op0.get_name()  # normal form\n",
    "\n",
    "# Get the operator's type and its params\n",
    "op0.type, op0.params"
   ]
  },
  {
   "cell_type": "code",
   "execution_count": null,
   "metadata": {},
   "outputs": [],
   "source": []
  },
  {
   "cell_type": "markdown",
   "metadata": {},
   "source": [
    "# ***Conditional Gates***"
   ]
  },
  {
   "cell_type": "code",
   "execution_count": 88,
   "metadata": {},
   "outputs": [],
   "source": [
    "from pytket import Circuit\n",
    "from pytket.circuit.display import render_circuit_jupyter"
   ]
  },
  {
   "cell_type": "code",
   "execution_count": 89,
   "metadata": {},
   "outputs": [
    {
     "data": {
      "text/html": [
       "\n",
       "\n",
       "\n",
       "\n",
       "\n",
       "\n",
       "<div style=\"resize: vertical; overflow: auto; height: 400px; display: block\">\n",
       "    <iframe srcdoc=\"\n",
       "&lt;!DOCTYPE html&gt;\n",
       "&lt;html lang=&#34;en&#34;&gt;\n",
       "&lt;head&gt;\n",
       "    &lt;meta charset=&#34;UTF-8&#34;&gt;\n",
       "    &lt;!-- Download Vue 3--&gt;\n",
       "&lt;script type=&#34;application/javascript&#34; src=&#34;https://cdn.jsdelivr.net/npm/vue@3&#34;&gt;&lt;/script&gt;\n",
       "&lt;!-- Download Circuit Renderer with styles --&gt;\n",
       "&lt;script type=&#34;application/javascript&#34; src=&#34;https://unpkg.com/pytket-circuit-renderer@0.7/dist/pytket-circuit-renderer.umd.js&#34;&gt;&lt;/script&gt;\n",
       "&lt;link rel=&#34;stylesheet&#34; href=&#34;https://unpkg.com/pytket-circuit-renderer@0.7/dist/pytket-circuit-renderer.css&#34;&gt;\n",
       "&lt;/head&gt;\n",
       "&lt;body&gt;\n",
       "\n",
       "\n",
       "\n",
       "    &lt;div id=&#34;circuit-display-vue-container-da5ec6df-2529-43f7-8acb-296cd0a39c2b&#34; class=&#34;pytket-circuit-display-container&#34;&gt;\n",
       "        &lt;div style=&#34;display: none&#34;&gt;\n",
       "            &lt;div id=&#34;circuit-json-to-display&#34;&gt;{&#34;bits&#34;: [[&#34;c&#34;, [0]], [&#34;c&#34;, [1]]], &#34;commands&#34;: [{&#34;args&#34;: [[&#34;a&#34;, [1]]], &#34;op&#34;: {&#34;type&#34;: &#34;H&#34;}}, {&#34;args&#34;: [[&#34;a&#34;, [1]], [&#34;b&#34;, [0]]], &#34;op&#34;: {&#34;type&#34;: &#34;CX&#34;}}, {&#34;args&#34;: [[&#34;a&#34;, [0]], [&#34;a&#34;, [1]]], &#34;op&#34;: {&#34;type&#34;: &#34;CX&#34;}}, {&#34;args&#34;: [[&#34;a&#34;, [0]]], &#34;op&#34;: {&#34;type&#34;: &#34;H&#34;}}, {&#34;args&#34;: [[&#34;a&#34;, [1]], [&#34;c&#34;, [1]]], &#34;op&#34;: {&#34;type&#34;: &#34;Measure&#34;}}, {&#34;args&#34;: [[&#34;a&#34;, [0]], [&#34;c&#34;, [0]]], &#34;op&#34;: {&#34;type&#34;: &#34;Measure&#34;}}, {&#34;args&#34;: [[&#34;c&#34;, [0]], [&#34;b&#34;, [0]]], &#34;op&#34;: {&#34;conditional&#34;: {&#34;op&#34;: {&#34;type&#34;: &#34;Z&#34;}, &#34;value&#34;: 1, &#34;width&#34;: 1}, &#34;type&#34;: &#34;Conditional&#34;}}, {&#34;args&#34;: [[&#34;c&#34;, [1]], [&#34;b&#34;, [0]]], &#34;op&#34;: {&#34;conditional&#34;: {&#34;op&#34;: {&#34;type&#34;: &#34;X&#34;}, &#34;value&#34;: 1, &#34;width&#34;: 1}, &#34;type&#34;: &#34;Conditional&#34;}}], &#34;created_qubits&#34;: [], &#34;discarded_qubits&#34;: [], &#34;implicit_permutation&#34;: [[[&#34;a&#34;, [0]], [&#34;a&#34;, [0]]], [[&#34;a&#34;, [1]], [&#34;a&#34;, [1]]], [[&#34;b&#34;, [0]], [&#34;b&#34;, [0]]]], &#34;phase&#34;: &#34;0.0&#34;, &#34;qubits&#34;: [[&#34;a&#34;, [0]], [&#34;a&#34;, [1]], [&#34;b&#34;, [0]]]}&lt;/div&gt;\n",
       "        &lt;/div&gt;\n",
       "        &lt;circuit-display-container\n",
       "                :circuit-element-str=&#34;&#39;#circuit-json-to-display&#39;&#34;\n",
       "                :init-render-options=&#34;initRenderOptions&#34;\n",
       "        &gt;&lt;/circuit-display-container&gt;\n",
       "    &lt;/div&gt;\n",
       "    &lt;script type=&#34;application/javascript&#34;&gt;\n",
       "      const circuitRendererUid = &#34;da5ec6df-2529-43f7-8acb-296cd0a39c2b&#34;;\n",
       "      const displayOptions = JSON.parse(&#39;{}&#39;);\n",
       "\n",
       "      // Script to initialise the circuit renderer app\n",
       "\n",
       "const { createApp } = Vue;\n",
       "const circuitDisplayContainer = window[&#34;pytket-circuit-renderer&#34;].default;\n",
       "// Init variables to be shared between circuit display instances\n",
       "if (typeof window.pytketCircuitDisplays === &#34;undefined&#34;) {\n",
       "    window.pytketCircuitDisplays = {};\n",
       "}\n",
       "// Create the root Vue component\n",
       "const app = createApp({\n",
       "    delimiters: [&#39;[[#&#39;, &#39;#]]&#39;],\n",
       "    components: { circuitDisplayContainer },\n",
       "    data () {\n",
       "      return {\n",
       "        initRenderOptions: displayOptions,\n",
       "      }\n",
       "    }\n",
       "})\n",
       "app.config.unwrapInjectedRef = true;\n",
       "app.mount(&#34;#circuit-display-vue-container-&#34;+circuitRendererUid);\n",
       "window.pytketCircuitDisplays[circuitRendererUid] = app;\n",
       "    &lt;/script&gt;\n",
       "\n",
       "\n",
       "\n",
       "&lt;/body&gt;\n",
       "&lt;/html&gt;\n",
       "\"\n",
       "            width=\"100%\" height=\"100%\"\n",
       "            style=\"border: none; outline: none; overflow: auto\"></iframe>\n",
       "</div>\n",
       "\n"
      ],
      "text/plain": [
       "<IPython.core.display.HTML object>"
      ]
     },
     "metadata": {},
     "output_type": "display_data"
    }
   ],
   "source": [
    "circ = Circuit()\n",
    "alice = circ.add_q_register(\"a\", 2)\n",
    "bob = circ.add_q_register(\"b\", 1)\n",
    "cr = circ.add_c_register(\"c\", 2)\n",
    "# Bell state between Alice and Bob:\n",
    "circ.H(alice[1])\n",
    "circ.CX(alice[1], bob[0])\n",
    "# Bell measurement of Alice's qubits:\n",
    "circ.CX(alice[0], alice[1])\n",
    "circ.H(alice[0])\n",
    "circ.Measure(alice[0], cr[0])\n",
    "circ.Measure(alice[1], cr[1])\n",
    "# Correction of Bob's qubit:\n",
    "circ.Z(bob[0], condition_bits=[cr[0]], condition_value=1)\n",
    "circ.X(bob[0], condition_bits=[cr[1]], condition_value=1)\n",
    "render_circuit_jupyter(circ)"
   ]
  }
 ],
 "metadata": {
  "kernelspec": {
   "display_name": "qosf_env",
   "language": "python",
   "name": "python3"
  },
  "language_info": {
   "codemirror_mode": {
    "name": "ipython",
    "version": 3
   },
   "file_extension": ".py",
   "mimetype": "text/x-python",
   "name": "python",
   "nbconvert_exporter": "python",
   "pygments_lexer": "ipython3",
   "version": "3.10.12"
  }
 },
 "nbformat": 4,
 "nbformat_minor": 2
}
