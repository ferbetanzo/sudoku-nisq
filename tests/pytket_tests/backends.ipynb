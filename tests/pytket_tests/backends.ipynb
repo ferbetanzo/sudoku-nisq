{
 "cells": [
  {
   "cell_type": "code",
   "execution_count": 2,
   "metadata": {},
   "outputs": [],
   "source": [
    "from pytket.extensions.qiskit import (\n",
    "    AerStateBackend,\n",
    "    AerBackend,\n",
    "    AerUnitaryBackend,\n",
    "    IBMQBackend,\n",
    "    IBMQEmulatorBackend,\n",
    ")\n",
    "from pytket.extensions.projectq import ProjectQBackend\n",
    "\n",
    "from pytket import Circuit, Qubit"
   ]
  },
  {
   "cell_type": "code",
   "execution_count": 3,
   "metadata": {},
   "outputs": [
    {
     "data": {
      "text/plain": [
       "[H q[0]; CX q[0], q[1]; ]"
      ]
     },
     "execution_count": 3,
     "metadata": {},
     "output_type": "execute_result"
    }
   ],
   "source": [
    "# Prepare a bell state\n",
    "\n",
    "circ = Circuit(2)\n",
    "circ.H(0)\n",
    "circ.CX(0, 1)\n"
   ]
  },
  {
   "cell_type": "code",
   "execution_count": 4,
   "metadata": {},
   "outputs": [
    {
     "name": "stdout",
     "output_type": "stream",
     "text": [
      "[0.70710678+0.j 0.        +0.j 0.        +0.j 0.70710678+0.j]\n"
     ]
    }
   ],
   "source": [
    "aer_state_b = AerStateBackend()\n",
    "state_handle = aer_state_b.process_circuit(circ)\n",
    "statevector = aer_state_b.get_result(state_handle).get_state()\n",
    "print(statevector)"
   ]
  },
  {
   "cell_type": "code",
   "execution_count": 5,
   "metadata": {},
   "outputs": [
    {
     "name": "stdout",
     "output_type": "stream",
     "text": [
      "[[ 0.70710678+0.00000000e+00j  0.        +0.00000000e+00j\n",
      "   0.70710678-8.65956056e-17j  0.        +0.00000000e+00j]\n",
      " [ 0.        +0.00000000e+00j  0.70710678+0.00000000e+00j\n",
      "   0.        +0.00000000e+00j  0.70710678-8.65956056e-17j]\n",
      " [ 0.        +0.00000000e+00j  0.70710678+0.00000000e+00j\n",
      "   0.        +0.00000000e+00j -0.70710678+8.65956056e-17j]\n",
      " [ 0.70710678+0.00000000e+00j  0.        +0.00000000e+00j\n",
      "  -0.70710678+8.65956056e-17j  0.        +0.00000000e+00j]]\n"
     ]
    }
   ],
   "source": [
    "aer_unitary_b = AerUnitaryBackend()\n",
    "result = aer_unitary_b.run_circuit(circ)\n",
    "print(result.get_unitary())"
   ]
  },
  {
   "cell_type": "code",
   "execution_count": 7,
   "metadata": {},
   "outputs": [
    {
     "name": "stdout",
     "output_type": "stream",
     "text": [
      "[0.70710678+0.j 0.        +0.j 0.        +0.j 0.70710678+0.j]\n"
     ]
    }
   ],
   "source": [
    "statevector = circ.get_statevector()\n",
    "unitary = circ.get_unitary()"
   ]
  },
  {
   "cell_type": "code",
   "execution_count": null,
   "metadata": {},
   "outputs": [],
   "source": []
  },
  {
   "cell_type": "code",
   "execution_count": null,
   "metadata": {},
   "outputs": [],
   "source": []
  }
 ],
 "metadata": {
  "kernelspec": {
   "display_name": "qosf_env",
   "language": "python",
   "name": "python3"
  },
  "language_info": {
   "codemirror_mode": {
    "name": "ipython",
    "version": 3
   },
   "file_extension": ".py",
   "mimetype": "text/x-python",
   "name": "python",
   "nbconvert_exporter": "python",
   "pygments_lexer": "ipython3",
   "version": "3.10.12"
  }
 },
 "nbformat": 4,
 "nbformat_minor": 2
}
