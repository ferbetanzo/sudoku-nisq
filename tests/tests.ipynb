{
 "cells": [
  {
   "cell_type": "code",
   "execution_count": 3,
   "metadata": {},
   "outputs": [],
   "source": [
    "import matplotlib.pyplot as plt\n",
    "import itertools\n",
    "import csv"
   ]
  },
  {
   "cell_type": "code",
   "execution_count": 4,
   "metadata": {},
   "outputs": [],
   "source": [
    "# Define the list of numbers\n",
    "colors = [1, 2, 3, 4]\n",
    "\n",
    "# Generate all permutations of the numbers\n",
    "permutations = set(itertools.permutations(colors))\n",
    "\n",
    "possible_patterns = {color: permutations for color in colors}"
   ]
  },
  {
   "cell_type": "markdown",
   "metadata": {},
   "source": [
    "# Sudoku loading"
   ]
  },
  {
   "cell_type": "code",
   "execution_count": 101,
   "metadata": {},
   "outputs": [],
   "source": [
    "preset_grid =  [\n",
    "    [0, 0, 0, 7, 5, 0, 4, 9, 0],\n",
    "    [0, 4, 5, 6, 9, 0, 0, 1, 8],\n",
    "    [0, 0, 6, 0, 0, 0, 7, 0, 0],\n",
    "    [9, 8, 0, 2, 0, 0, 0, 0, 0],\n",
    "    [2, 0, 7, 1, 0, 8, 0, 0, 0],\n",
    "    [0, 0, 3, 0, 0, 5, 8, 0, 7],\n",
    "    [4, 2, 0, 0, 6, 7, 1, 8, 0],\n",
    "    [5, 0, 0, 0, 2, 0, 0, 7, 4],\n",
    "    [3, 0, 0, 5, 1, 0, 9, 0, 2]\n",
    "]\n",
    "\n",
    "with open('./sudokus/easy5.csv', 'w', newline='') as file:\n",
    "    writer = csv.writer(file)\n",
    "    writer.writerows(preset_grid)\n",
    "\n"
   ]
  },
  {
   "cell_type": "markdown",
   "metadata": {},
   "source": [
    "# ***Pre-Processing***"
   ]
  },
  {
   "cell_type": "code",
   "execution_count": 102,
   "metadata": {},
   "outputs": [
    {
     "name": "stdout",
     "output_type": "stream",
     "text": [
      "9\n"
     ]
    }
   ],
   "source": [
    "def csv_to_preset_tuples(filename):\n",
    "    preset_tuples = {}\n",
    "    with open(filename, newline='') as file:\n",
    "        reader = csv.reader(file)\n",
    "        counter = 0\n",
    "        for i, row in enumerate(reader):\n",
    "            counter += 1\n",
    "            for j, value in enumerate(row):\n",
    "                if value != \"0\":\n",
    "                    preset_tuples[(i, j)] = {int(value)}\n",
    "        print(counter)\n",
    "    return preset_tuples\n",
    "\n",
    "preset_tuples = csv_to_preset_tuples(\"./sudokus/easy5.csv\")\n",
    "\n",
    "rows_constrictions = {}\n",
    "columns_constrictions = {}\n",
    "subunit_constrictions = {}"
   ]
  },
  {
   "cell_type": "code",
   "execution_count": 103,
   "metadata": {},
   "outputs": [],
   "source": [
    "def update_constrictions(fixed_tuples: dict[tuple : int], sudoku_size : int) -> None:\n",
    "    \n",
    "    for row in range(sudoku_size):\n",
    "        for column in range(sudoku_size):        \n",
    "            if (row, column) in fixed_tuples:\n",
    "                subunit = (int(row//sudoku_size**0.5), int(column//sudoku_size**0.5))\n",
    "\n",
    "                if row in rows_constrictions:\n",
    "                    rows_constrictions[row].update(fixed_tuples[(row, column)])\n",
    "                else:\n",
    "                    rows_constrictions[row] = fixed_tuples[(row, column)].copy()\n",
    "                    \n",
    "                if column in columns_constrictions:\n",
    "                    columns_constrictions[column].update(fixed_tuples[(row, column)])\n",
    "                else:\n",
    "                    columns_constrictions[column] = fixed_tuples[(row, column)].copy()\n",
    "\n",
    "                if subunit in subunit_constrictions:\n",
    "                    subunit_constrictions[subunit].update(fixed_tuples[(row, column)])\n",
    "                else: \n",
    "                    subunit_constrictions[subunit] = fixed_tuples[(row, column)].copy()\n",
    "\n",
    "\n",
    "def find_invalid_values(row: int, column: int, sudoku_size : int) -> set:\n",
    "\n",
    "    subunit = (int(row//sudoku_size**0.5), int(column//sudoku_size**0.5))\n",
    "    invalid_values = set()\n",
    "    if row in rows_constrictions:\n",
    "        invalid_values = invalid_values | rows_constrictions[row]\n",
    "    if column in columns_constrictions:\n",
    "        invalid_values = invalid_values | columns_constrictions[column]\n",
    "    if subunit in subunit_constrictions:\n",
    "        invalid_values = invalid_values | subunit_constrictions[subunit]\n",
    "\n",
    "    return invalid_values\n",
    "\n",
    "\n",
    "def plot_sudoku_grid(cell_values: dict[tuple: int], sudoku_size=4) -> None:\n",
    "\n",
    "    fig, ax = plt.subplots(figsize=(6, 6))\n",
    "    \n",
    "    ax.set_xlim(0, sudoku_size)\n",
    "    ax.set_ylim(0, sudoku_size)\n",
    "    \n",
    "    minor_ticks = range(0, sudoku_size + 1)\n",
    "    major_ticks = range(0, sudoku_size + 1, int(sudoku_size**0.5))\n",
    "    \n",
    "    for tick in minor_ticks:\n",
    "        ax.plot([tick, tick], [0, sudoku_size], 'k', linewidth=0.5)\n",
    "        ax.plot([0, sudoku_size], [tick, tick], 'k', linewidth=0.5)\n",
    "    \n",
    "    for tick in major_ticks:\n",
    "        ax.plot([tick, tick], [0, sudoku_size], 'k', linewidth=3)\n",
    "        ax.plot([0, sudoku_size], [tick, tick], 'k', linewidth=3)\n",
    "        \n",
    "    ax.set_xticks([])\n",
    "    ax.set_yticks([])\n",
    "    \n",
    "    # Add numbers to the grid from the dictionary\n",
    "    for (i, j), value in cell_values.items():\n",
    "        ax.text(j + 0.5, sudoku_size -0.5 - i, str(next(iter(value))),\n",
    "                ha='center', va='center', fontsize=100/sudoku_size)\n",
    "\n",
    "    #plt.gca().invert_yaxis()\n",
    "    plt.show()\n",
    "\n",
    "def general_preprocessing(sudoku_size=4) -> dict[tuple: set]:\n",
    "    \n",
    "    update_constrictions(fixed_tuples=preset_tuples, sudoku_size=sudoku_size)\n",
    "    plot_sudoku_grid(cell_values=preset_tuples, sudoku_size=sudoku_size)\n",
    "\n",
    "    open_tuples = {}\n",
    "    possible_values = set(range(1, sudoku_size + 1))\n",
    "\n",
    "    for row in range(sudoku_size):\n",
    "        for column in range(sudoku_size):\n",
    "            if (row, column) not in preset_tuples:\n",
    "    \n",
    "                invalid_values = find_invalid_values(row=row, column=column,\n",
    "                                                      sudoku_size=sudoku_size)\n",
    "                open_tuples[(row, column)] = possible_values - invalid_values\n",
    "    \n",
    "    fixed_tuples = {key: value for key, value in open_tuples.items() if len(value) == 1}\n",
    "    preset_tuples.update(fixed_tuples)\n",
    "\n",
    "    return open_tuples"
   ]
  },
  {
   "cell_type": "code",
   "execution_count": 106,
   "metadata": {},
   "outputs": [
    {
     "data": {
      "text/plain": [
       "{3: {1, 2, 5, 6, 7},\n",
       " 4: {1, 2, 5, 6, 9},\n",
       " 6: {1, 4, 7, 8, 9},\n",
       " 7: {1, 7, 8, 9},\n",
       " 1: {2, 4, 8},\n",
       " 2: {3, 5, 6, 7},\n",
       " 8: {2, 4, 7, 8},\n",
       " 0: {2, 3, 4, 5, 9},\n",
       " 5: {5, 7, 8}}"
      ]
     },
     "execution_count": 106,
     "metadata": {},
     "output_type": "execute_result"
    }
   ],
   "source": [
    "columns_constrictions"
   ]
  },
  {
   "cell_type": "code",
   "execution_count": 105,
   "metadata": {},
   "outputs": [
    {
     "data": {
      "image/png": "[encoded data removed]",
      "text/plain": [
       "<Figure size 600x600 with 1 Axes>"
      ]
     },
     "metadata": {},
     "output_type": "display_data"
    },
    {
     "name": "stdout",
     "output_type": "stream",
     "text": [
      "Open tuples length is: 43\n"
     ]
    },
    {
     "data": {
      "text/plain": [
       "{(0, 0): {1, 8},\n",
       " (0, 1): {1, 3},\n",
       " (0, 2): {1, 2, 8},\n",
       " (0, 5): {1, 2, 3},\n",
       " (0, 8): {3, 6},\n",
       " (1, 0): {7},\n",
       " (1, 5): {2, 3},\n",
       " (1, 6): {2, 3},\n",
       " (2, 0): {1, 8},\n",
       " (2, 1): {1, 3, 9},\n",
       " (2, 3): {3, 4, 8},\n",
       " (2, 4): {3, 4, 8},\n",
       " (2, 5): {1, 2, 3, 4},\n",
       " (2, 7): {2, 3, 5},\n",
       " (2, 8): {3, 5},\n",
       " (3, 2): {1, 4},\n",
       " (3, 4): {3, 4, 7},\n",
       " (3, 5): {3, 4, 6},\n",
       " (3, 6): {3, 5, 6},\n",
       " (3, 7): {3, 4, 5, 6},\n",
       " (3, 8): {1, 3, 5, 6},\n",
       " (4, 1): {5, 6},\n",
       " (4, 4): {3, 4},\n",
       " (4, 6): {3, 5, 6},\n",
       " (4, 7): {3, 4, 5, 6},\n",
       " (4, 8): {3, 5, 6, 9},\n",
       " (5, 0): {1, 6},\n",
       " (5, 1): {1, 6},\n",
       " (5, 3): {4, 9},\n",
       " (5, 4): {4},\n",
       " (5, 7): {2, 4, 6},\n",
       " (6, 2): {9},\n",
       " (6, 3): {3, 9},\n",
       " (6, 8): {3, 5},\n",
       " (7, 1): {1, 6, 9},\n",
       " (7, 2): {1, 8, 9},\n",
       " (7, 3): {3, 8, 9},\n",
       " (7, 5): {3, 9},\n",
       " (7, 6): {3, 6},\n",
       " (8, 1): {6, 7},\n",
       " (8, 2): {8},\n",
       " (8, 5): {4},\n",
       " (8, 7): {6}}"
      ]
     },
     "execution_count": 105,
     "metadata": {},
     "output_type": "execute_result"
    }
   ],
   "source": [
    "open_tuples = general_preprocessing(sudoku_size=9)\n",
    "print(f\"Open tuples length is: {len(open_tuples)}\")\n",
    "open_tuples"
   ]
  },
  {
   "cell_type": "markdown",
   "metadata": {},
   "source": [
    "# ***Exact Covering***"
   ]
  },
  {
   "cell_type": "code",
   "execution_count": 84,
   "metadata": {},
   "outputs": [
    {
     "data": {
      "text/plain": [
       "{(0, 0): {5},\n",
       " (0, 2): {8},\n",
       " (0, 4): {1},\n",
       " (0, 6): {4},\n",
       " (0, 8): {7},\n",
       " (1, 0): {3},\n",
       " (1, 1): {4},\n",
       " (1, 6): {9},\n",
       " (2, 0): {1},\n",
       " (3, 1): {7},\n",
       " (3, 2): {3},\n",
       " (3, 4): {9},\n",
       " (3, 5): {1},\n",
       " (3, 6): {2},\n",
       " (3, 7): {5},\n",
       " (4, 0): {8},\n",
       " (4, 2): {1},\n",
       " (4, 3): {7},\n",
       " (4, 5): {6},\n",
       " (4, 7): {4},\n",
       " (5, 0): {9},\n",
       " (5, 1): {2},\n",
       " (5, 5): {5},\n",
       " (5, 7): {7},\n",
       " (5, 8): {1},\n",
       " (6, 1): {8},\n",
       " (6, 2): {5},\n",
       " (6, 3): {4},\n",
       " (7, 1): {1},\n",
       " (7, 2): {9},\n",
       " (7, 3): {5},\n",
       " (7, 6): {7},\n",
       " (8, 0): {7},\n",
       " (8, 1): {3},\n",
       " (8, 2): {4},\n",
       " (8, 6): {5},\n",
       " (8, 7): {9},\n",
       " (8, 8): {8},\n",
       " (3, 3): {8},\n",
       " (3, 8): {6},\n",
       " (4, 1): {5},\n",
       " (4, 6): {3},\n",
       " (5, 2): {6},\n",
       " (8, 5): {2},\n",
       " (3, 0): {4},\n",
       " (4, 4): {2},\n",
       " (4, 8): {9},\n",
       " (5, 3): {3},\n",
       " (5, 6): {8},\n",
       " (8, 4): {6},\n",
       " (2, 6): {6},\n",
       " (5, 4): {4},\n",
       " (8, 3): {1},\n",
       " (2, 1): {9},\n",
       " (6, 6): {1},\n",
       " (0, 1): {6},\n",
       " (2, 3): {2},\n",
       " (0, 3): {9},\n",
       " (1, 3): {6},\n",
       " (2, 2): {7},\n",
       " (0, 5): {3},\n",
       " (1, 2): {2},\n",
       " (0, 7): {2, 3},\n",
       " (1, 4): {5, 7, 8},\n",
       " (1, 5): {7, 8},\n",
       " (1, 7): {1, 2, 8},\n",
       " (1, 8): {2, 5},\n",
       " (2, 4): {3, 5, 8},\n",
       " (2, 5): {3, 4, 8},\n",
       " (2, 7): {3, 8},\n",
       " (2, 8): {3, 5},\n",
       " (6, 0): {2, 6},\n",
       " (6, 4): {3, 7},\n",
       " (6, 5): {3, 7, 9},\n",
       " (6, 7): {2, 3, 6},\n",
       " (6, 8): {2, 3},\n",
       " (7, 0): {2, 6},\n",
       " (7, 4): {3, 8},\n",
       " (7, 5): {3, 8},\n",
       " (7, 7): {2, 3, 6},\n",
       " (7, 8): {2, 3, 4}}"
      ]
     },
     "execution_count": 84,
     "metadata": {},
     "output_type": "execute_result"
    }
   ],
   "source": [
    "total_tuples = {**preset_tuples, **open_tuples}\n",
    "total_tuples\n"
   ]
  },
  {
   "cell_type": "code",
   "execution_count": 85,
   "metadata": {},
   "outputs": [
    {
     "data": {
      "text/plain": [
       "{1: [[2, 7, 4, 8, 0, 3, 6, 1, 5]],\n",
       " 2: [[7, 5, 1, 2, 4, 8, 3, 0, 6], [6, 5, 1, 2, 4, 8, 3, 0, 7]],\n",
       " 3: [[1, 8, 3, 5, 7, 6, 4, 0, 2],\n",
       "  [1, 8, 3, 5, 6, 7, 4, 0, 2],\n",
       "  [1, 8, 3, 5, 7, 0, 4, 6, 2],\n",
       "  [1, 8, 3, 5, 6, 0, 4, 7, 2],\n",
       "  [1, 8, 3, 5, 7, 2, 4, 0, 6],\n",
       "  [1, 8, 3, 5, 2, 7, 4, 0, 6],\n",
       "  [1, 8, 3, 5, 7, 0, 4, 2, 6],\n",
       "  [1, 8, 3, 5, 2, 0, 4, 7, 6],\n",
       "  [1, 8, 3, 5, 6, 2, 4, 0, 7],\n",
       "  [1, 8, 3, 5, 2, 6, 4, 0, 7],\n",
       "  [1, 8, 3, 5, 6, 0, 4, 2, 7],\n",
       "  [1, 8, 3, 5, 2, 0, 4, 6, 7]],\n",
       " 4: [[3, 1, 8, 6, 5, 2, 0, 4, 7]],\n",
       " 5: [[0, 4, 6, 7, 2, 5, 8, 3, 1], [0, 4, 6, 7, 1, 5, 8, 3, 2]],\n",
       " 6: [[7, 0, 5, 1, 8, 4, 2, 6, 3], [6, 0, 5, 1, 8, 4, 2, 7, 3]],\n",
       " 7: [[8, 3, 2, 4, 6, 1, 7, 5, 0], [8, 3, 2, 4, 1, 6, 7, 5, 0]],\n",
       " 8: [[4, 6, 0, 3, 7, 2, 5, 1, 8],\n",
       "  [4, 6, 0, 3, 2, 7, 5, 1, 8],\n",
       "  [4, 6, 0, 3, 7, 1, 5, 2, 8],\n",
       "  [4, 6, 0, 3, 1, 7, 5, 2, 8]],\n",
       " 9: [[5, 2, 7, 0, 3, 6, 1, 8, 4]]}"
      ]
     },
     "execution_count": 85,
     "metadata": {},
     "output_type": "execute_result"
    }
   ],
   "source": [
    "def create_patterns(total_tuples: dict[tuple: set], sudoku_size:int) -> dict[int: list]:\n",
    "    \n",
    "    patterns = {i: [[]] for i in range(1, sudoku_size+1)}\n",
    "\n",
    "    for column in range(sudoku_size):\n",
    "        \n",
    "        for color in range(1, sudoku_size+1):\n",
    "            color_patterns = []\n",
    "            for cell in total_tuples:\n",
    "                if cell[-1] == column:\n",
    "                    \n",
    "                    if color in total_tuples[cell]:\n",
    "                        \n",
    "                        for pattern in patterns[color]:\n",
    "                            if cell[0] not in pattern:\n",
    "                                new_pattern = pattern.copy()\n",
    "                                new_pattern.append(cell[0])\n",
    "                                color_patterns.append(new_pattern)\n",
    "\n",
    "            patterns[color] = color_patterns\n",
    "    \n",
    "    return patterns\n",
    "\n",
    "\n",
    "patterns = create_patterns(total_tuples=total_tuples, sudoku_size=9)\n",
    "patterns"
   ]
  },
  {
   "cell_type": "code",
   "execution_count": null,
   "metadata": {},
   "outputs": [],
   "source": []
  },
  {
   "cell_type": "code",
   "execution_count": null,
   "metadata": {},
   "outputs": [],
   "source": []
  },
  {
   "cell_type": "markdown",
   "metadata": {},
   "source": []
  },
  {
   "cell_type": "markdown",
   "metadata": {},
   "source": [
    "# ***Reducing qubits in Grover's Algorithm***"
   ]
  },
  {
   "cell_type": "markdown",
   "metadata": {},
   "source": []
  }
 ],
 "metadata": {
  "kernelspec": {
   "display_name": "qosf_env",
   "language": "python",
   "name": "python3"
  },
  "language_info": {
   "codemirror_mode": {
    "name": "ipython",
    "version": 3
   },
   "file_extension": ".py",
   "mimetype": "text/x-python",
   "name": "python",
   "nbconvert_exporter": "python",
   "pygments_lexer": "ipython3",
   "version": "3.10.12"
  }
 },
 "nbformat": 4,
 "nbformat_minor": 2
}
