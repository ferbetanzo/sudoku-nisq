{
 "cells": [
  {
   "cell_type": "code",
   "execution_count": 22,
   "metadata": {},
   "outputs": [
    {
     "name": "stdout",
     "output_type": "stream",
     "text": [
      "The autoreload extension is already loaded. To reload it, use:\n",
      "  %reload_ext autoreload\n"
     ]
    }
   ],
   "source": [
    "%load_ext autoreload\n",
    "%autoreload 2"
   ]
  },
  {
   "cell_type": "markdown",
   "metadata": {},
   "source": [
    "# ***4x4 Sudoku Test***\n",
    "---\n",
    "Test of general preprocessing implementation using the $4\\times 4$ sudoku used in *Encoding Strategies to Solve Sudoku with Quantum Computers* [1]. This example is shown in figure $4.1$ page $14$. "
   ]
  },
  {
   "cell_type": "code",
   "execution_count": 23,
   "metadata": {},
   "outputs": [
    {
     "data": {
      "text/plain": [
       "'/home/reyguadarrama/qosf/sudoku-nisq/tests/pre-processing'"
      ]
     },
     "execution_count": 23,
     "metadata": {},
     "output_type": "execute_result"
    }
   ],
   "source": [
    "import os\n",
    "\n",
    "os.getcwd()"
   ]
  },
  {
   "cell_type": "code",
   "execution_count": 24,
   "metadata": {},
   "outputs": [],
   "source": [
    "from python_package.sudoku import Sudoku"
   ]
  },
  {
   "cell_type": "code",
   "execution_count": 25,
   "metadata": {},
   "outputs": [],
   "source": [
    "# initialize the thesis 4x4 sudoku example as a Sudoku instance\n",
    "example_sudoku_4x4 = Sudoku(\"../../data/4x4sudoku.csv\")"
   ]
  },
  {
   "cell_type": "code",
   "execution_count": 26,
   "metadata": {},
   "outputs": [
    {
     "data": {
      "image/png": "[encoded data removed]",
      "text/plain": [
       "<Figure size 600x600 with 1 Axes>"
      ]
     },
     "execution_count": 26,
     "metadata": {},
     "output_type": "execute_result"
    }
   ],
   "source": [
    "# Show the sudoku initial state grid\n",
    "example_sudoku_4x4.plot_grid()\n"
   ]
  },
  {
   "cell_type": "markdown",
   "metadata": {},
   "source": [
    "## **General Pre-processing**\n",
    "---\n",
    "The Preprocessing is divided into two steps:\n",
    "\n",
    "1. The exclusion of digits by given constraints\n",
    "2. Checking for new constraints generated by step 1"
   ]
  },
  {
   "cell_type": "markdown",
   "metadata": {},
   "source": [
    "##### **Initial state**"
   ]
  },
  {
   "cell_type": "code",
   "execution_count": 27,
   "metadata": {},
   "outputs": [
    {
     "name": "stdout",
     "output_type": "stream",
     "text": [
      "*** set tuples *** \n",
      "\n",
      "cell: (0, 0), value: {1}\n",
      "cell: (1, 1), value: {4}\n",
      "cell: (2, 1), value: {2}\n",
      "cell: (3, 0), value: {3}\n"
     ]
    }
   ],
   "source": [
    "# Show the initial prefilled cells \n",
    "set_tuples = example_sudoku_4x4.set_tuples\n",
    "\n",
    "print(\"*** set tuples *** \\n\")\n",
    "for cell in set_tuples:\n",
    "    print(f\"cell: {cell}, value: {set_tuples[cell]}\")"
   ]
  },
  {
   "cell_type": "code",
   "execution_count": 28,
   "metadata": {},
   "outputs": [
    {
     "name": "stdout",
     "output_type": "stream",
     "text": [
      "*** initial row constraints *** \n",
      "\n",
      "row: 0, forbiden values: {1}\n",
      "row: 1, forbiden values: {4}\n",
      "row: 2, forbiden values: {2}\n",
      "row: 3, forbiden values: {3}\n",
      "\n",
      " *** initial column constraints *** \n",
      "\n",
      "column: 0, forbiden values: {1, 3}\n",
      "column: 1, forbiden values: {2, 4}\n",
      "\n",
      " *** initial subunit constraints *** \n",
      "\n",
      "sub unit: (0, 0), forbiden values: {1, 4}\n",
      "sub unit: (1, 0), forbiden values: {2, 3}\n"
     ]
    }
   ],
   "source": [
    "# Show the row, column and subunit initial constraints\n",
    "\n",
    "row_constraints = example_sudoku_4x4.rows_constraints\n",
    "col_constraints = example_sudoku_4x4.columns_constraints\n",
    "sub_constraints = example_sudoku_4x4.subunit_constraints\n",
    "\n",
    "print(\"*** initial row constraints *** \\n\")\n",
    "for cell in row_constraints:\n",
    "    print(f\"row: {cell}, forbiden values: {row_constraints[cell]}\")\n",
    "\n",
    "\n",
    "print(\"\\n *** initial column constraints *** \\n\")\n",
    "for cell in col_constraints:\n",
    "    print(f\"column: {cell}, forbiden values: {col_constraints[cell]}\")\n",
    "\n",
    "\n",
    "print(\"\\n *** initial subunit constraints *** \\n\")\n",
    "for cell in sub_constraints:\n",
    "    print(f\"sub unit: {cell}, forbiden values: {sub_constraints[cell]}\")"
   ]
  },
  {
   "cell_type": "markdown",
   "metadata": {},
   "source": [
    "### **Step 1**: ***Digit Exclusion***\n",
    "---\n",
    "Dictionaries ```set_tuples```, ```open_tuples``` store the current iteration fixed cell values and all the current iteration for all free cells according with the constraints respectively. The keys are tuples representing the cell in a (row, column) format, meanwhile the values are sets cointatining the valid values to fill the respective cell.\n",
    "\n",
    "The algorithm iterates over every row and within it over every column. If a cell is empty and thus no digit is given, an new element id appended to ```open_tuples``` containing the cell identification tuple (row, column) and a set with all the possible for such cell. Also it check if a digit already occurs within the respective row, column or subunit and exclude the solutions forbiden by the constraints. After the step 1 there is a dictionary containing all possible assignments for all free cells according to the current constraints."
   ]
  },
  {
   "cell_type": "code",
   "execution_count": 29,
   "metadata": {},
   "outputs": [
    {
     "name": "stdout",
     "output_type": "stream",
     "text": [
      "*** open tuples *** \n",
      "\n",
      "cell: (0, 1), set values: {3}\n",
      "cell: (0, 2), set values: {2, 3, 4}\n",
      "cell: (0, 3), set values: {2, 3, 4}\n",
      "cell: (1, 0), set values: {2}\n",
      "cell: (1, 2), set values: {1, 2, 3}\n",
      "cell: (1, 3), set values: {1, 2, 3}\n",
      "cell: (2, 0), set values: {4}\n",
      "cell: (2, 2), set values: {1, 3, 4}\n",
      "cell: (2, 3), set values: {1, 3, 4}\n",
      "cell: (3, 1), set values: {1}\n",
      "cell: (3, 2), set values: {1, 2, 4}\n",
      "cell: (3, 3), set values: {1, 2, 4}\n"
     ]
    }
   ],
   "source": [
    "# Step 1: Digit exclusion\n",
    "example_sudoku_4x4.digit_exclusion()\n",
    "\n",
    "# Show the possible cell assignment once applied the step 1\n",
    "open_tuples = example_sudoku_4x4.open_tuples\n",
    "\n",
    "print(\"*** open tuples *** \\n\")\n",
    "for cell in open_tuples:\n",
    "    print(f\"cell: {cell}, set values: {open_tuples[cell]}\")\n"
   ]
  },
  {
   "cell_type": "markdown",
   "metadata": {},
   "source": [
    "### **Step 2**: ***Constraints Update***\n",
    "---\n",
    "In step 2, it is checked whether the computations in step 1 found unique assignments for cells that were previously empty and appends this unique assignments to ```set_tuples```. The cells for which a value was found form new constraints that apply to the empy cells in ```open_tuples``` in the next iteration."
   ]
  },
  {
   "cell_type": "code",
   "execution_count": 30,
   "metadata": {},
   "outputs": [
    {
     "name": "stdout",
     "output_type": "stream",
     "text": [
      "*** new set tuples *** \n",
      "\n",
      "cell: (0, 0), value: {1}\n",
      "cell: (1, 1), value: {4}\n",
      "cell: (2, 1), value: {2}\n",
      "cell: (3, 0), value: {3}\n",
      "cell: (0, 1), value: {3}\n",
      "cell: (1, 0), value: {2}\n",
      "cell: (2, 0), value: {4}\n",
      "cell: (3, 1), value: {1}\n"
     ]
    }
   ],
   "source": [
    "# Step 2: constraints update\n",
    "example_sudoku_4x4.update_constraints()\n",
    "\n",
    "# Show the set cell values after the step 1 \n",
    "set_tuples = example_sudoku_4x4.set_tuples\n",
    "\n",
    "print(\"*** new set tuples *** \\n\")\n",
    "for cell in set_tuples:\n",
    "    print(f\"cell: {cell}, value: {set_tuples[cell]}\")"
   ]
  },
  {
   "cell_type": "code",
   "execution_count": 31,
   "metadata": {},
   "outputs": [
    {
     "name": "stdout",
     "output_type": "stream",
     "text": [
      "*** new row constraints *** \n",
      "\n",
      "row: 0, forbiden values: {1, 3}\n",
      "row: 1, forbiden values: {2, 4}\n",
      "row: 2, forbiden values: {2, 4}\n",
      "row: 3, forbiden values: {1, 3}\n",
      "\n",
      "*** new column constraints *** \n",
      "\n",
      "row: 0, forbiden values: {1, 2, 3, 4}\n",
      "row: 1, forbiden values: {1, 2, 3, 4}\n",
      "\n",
      "*** new subunit constraints *** \n",
      "\n",
      "row: (0, 0), forbiden values: {1, 2, 3, 4}\n",
      "row: (1, 0), forbiden values: {1, 2, 3, 4}\n"
     ]
    }
   ],
   "source": [
    "# Show the updated constraints after step 2\n",
    "row_constraints = example_sudoku_4x4.rows_constraints\n",
    "col_constraints = example_sudoku_4x4.columns_constraints\n",
    "sub_constraints = example_sudoku_4x4.subunit_constraints\n",
    "\n",
    "print(\"*** new row constraints *** \\n\")\n",
    "for cell in row_constraints:\n",
    "    print(f\"row: {cell}, forbiden values: {row_constraints[cell]}\")\n",
    "\n",
    "\n",
    "print(\"\\n*** new column constraints *** \\n\")\n",
    "for cell in col_constraints:\n",
    "    print(f\"row: {cell}, forbiden values: {col_constraints[cell]}\")\n",
    "\n",
    "\n",
    "print(\"\\n*** new subunit constraints *** \\n\")\n",
    "for cell in sub_constraints:\n",
    "    print(f\"row: {cell}, forbiden values: {sub_constraints[cell]}\")\n"
   ]
  },
  {
   "cell_type": "markdown",
   "metadata": {},
   "source": [
    "### **Algorithm iteration**\n",
    "---\n",
    "\n",
    "The algorithm is repeated until no more solved cells emerge after applied the new constraints. At the end of pre-processing ```open tuples``` contains all non-trivial solvable cells with their possible assignments. "
   ]
  },
  {
   "cell_type": "code",
   "execution_count": 32,
   "metadata": {},
   "outputs": [
    {
     "name": "stdout",
     "output_type": "stream",
     "text": [
      "*** final open tuples *** \n",
      "\n",
      "cell: (0, 2), set values: {2, 4}\n",
      "cell: (0, 3), set values: {2, 4}\n",
      "cell: (1, 2), set values: {1, 3}\n",
      "cell: (1, 3), set values: {1, 3}\n",
      "cell: (2, 2), set values: {1, 3}\n",
      "cell: (2, 3), set values: {1, 3}\n",
      "cell: (3, 2), set values: {2, 4}\n",
      "cell: (3, 3), set values: {2, 4}\n"
     ]
    }
   ],
   "source": [
    "# Second iteration\n",
    "example_sudoku_4x4.general_preprocessing()\n",
    "\n",
    "open_tuples = example_sudoku_4x4.open_tuples\n",
    "\n",
    "print(\"*** final open tuples *** \\n\")\n",
    "for cell in open_tuples:\n",
    "    print(f\"cell: {cell}, set values: {open_tuples[cell]}\")"
   ]
  },
  {
   "cell_type": "code",
   "execution_count": 33,
   "metadata": {},
   "outputs": [
    {
     "data": {
      "image/png": "[encoded data removed]",
      "text/plain": [
       "<Figure size 600x600 with 1 Axes>"
      ]
     },
     "execution_count": 33,
     "metadata": {},
     "output_type": "execute_result"
    }
   ],
   "source": [
    "# Show the sudoku final  state grid\n",
    "example_sudoku_4x4.plot_grid()\n"
   ]
  },
  {
   "cell_type": "markdown",
   "metadata": {},
   "source": [
    "## **References**\n",
    "\n",
    "[1] Weiß, M. W. (2022). Encoding strategies to solve soduko with quantum computers [Bachelorarbeit, Institute für informatik der Ludwig–Maximilians-Universitat München.]. https://elib.dlr.de/193653/1/Abgabe_weiss22.pdf"
   ]
  }
 ],
 "metadata": {
  "kernelspec": {
   "display_name": "qosf_env",
   "language": "python",
   "name": "python3"
  },
  "language_info": {
   "codemirror_mode": {
    "name": "ipython",
    "version": 3
   },
   "file_extension": ".py",
   "mimetype": "text/x-python",
   "name": "python",
   "nbconvert_exporter": "python",
   "pygments_lexer": "ipython3",
   "version": "3.10.12"
  }
 },
 "nbformat": 4,
 "nbformat_minor": 2
}
